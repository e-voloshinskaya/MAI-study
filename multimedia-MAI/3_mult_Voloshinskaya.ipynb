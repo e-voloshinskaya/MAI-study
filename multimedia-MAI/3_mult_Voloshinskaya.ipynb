{
  "nbformat": 4,
  "nbformat_minor": 0,
  "metadata": {
    "colab": {
      "provenance": [],
      "collapsed_sections": [
        "SBFiFWEhifmR",
        "L--pgfnvnxjG",
        "V6nuStwsjO8w",
        "EqvUDqfjiciG",
        "ihrjvQqWoN4X",
        "TKz4egM-oP8a",
        "AVe_X1q-xmzT",
        "hLpxkBR30AKC",
        "xU5-BOWu4Pgp",
        "hVBmg3Zr4KKh"
      ]
    },
    "kernelspec": {
      "name": "python3",
      "display_name": "Python 3"
    },
    "language_info": {
      "name": "python"
    }
  },
  "cells": [
    {
      "cell_type": "markdown",
      "metadata": {
        "id": "2saVOMY-mk3w"
      },
      "source": [
        "# Лабораторные работы по дисциплине \"Методы, средства и технологии мультимедиа\"\n",
        "\n",
        "**Выполнила студентка гр. М8О-406Б-21 Волошинская Евгения Владимировна**"
      ]
    },
    {
      "cell_type": "markdown",
      "metadata": {
        "id": "VAja5slwj-Oi"
      },
      "source": [
        "В качестве данных я выбрала датасет Loan Approval Classification Dataset (https://www.kaggle.com/datasets/taweilo/loan-approval-classification-data/data). Эти данные могут быть использованы для обучения моделей ИИ, которые автоматизируют процесс одобрения кредитов, оценивают кредитный риск, выявляют важные факторы при принятии решений, обнаруживают потенциальное мошенничество и персонализируют кредитные предложения. Это помогает финансовым учреждениям повысить эффективность, уменьшить ручную работу, принимать более обоснованные решения при обработке кредитных заявок и улучшать клиентский опыт.\n",
        "\n",
        "Данные подходят как для задачи классификации, так и для регрессии.\n",
        "\n",
        "Для задачи классификации (предсказание одобрения займа): т.к. классы не сбалансированы, то основные метрики качества для сравнения моделей - Precision, Recall, F1-мера, но также рассчитаны и точность, и матрица ошибок, полнота и AUC.\n",
        "\n",
        "Для задачи регрессии (расчет процентной ставки по займу):\n",
        "MSE, MAE, MAPE и R2"
      ]
    },
    {
      "cell_type": "markdown",
      "metadata": {
        "id": "M14zCixiU4qU"
      },
      "source": [
        "## Лабораторная работа №3: Проведение исследований с решающим деревом"
      ]
    },
    {
      "cell_type": "markdown",
      "metadata": {
        "id": "aPAHmNR_Xf_z"
      },
      "source": [
        "Импортируем необходимые библиотеки:"
      ]
    },
    {
      "cell_type": "code",
      "execution_count": 93,
      "metadata": {
        "id": "3cv2Er_NU3Ft"
      },
      "outputs": [],
      "source": [
        "import pandas as pd\n",
        "import numpy as np\n",
        "import matplotlib.pyplot as plt\n",
        "import seaborn as sns\n",
        "\n",
        "import xgboost as xgb\n",
        "from sklearn.cluster import KMeans\n",
        "from sklearn.neighbors import KNeighborsClassifier, KNeighborsRegressor\n",
        "from sklearn.linear_model import LinearRegression\n",
        "from sklearn.linear_model import LogisticRegression\n",
        "from sklearn.tree import DecisionTreeRegressor, DecisionTreeClassifier, plot_tree\n",
        "\n",
        "from mlxtend.frequent_patterns import apriori, association_rules\n",
        "from sklearn.model_selection import train_test_split, GridSearchCV, cross_val_score\n",
        "from sklearn.metrics import accuracy_score, confusion_matrix, classification_report, roc_curve, auc, roc_auc_score, mean_squared_error, mean_absolute_error, r2_score, mean_absolute_percentage_error\n",
        "from sklearn.preprocessing import LabelEncoder, StandardScaler\n",
        "from imblearn.over_sampling import SMOTE\n",
        "from sklearn.preprocessing import OrdinalEncoder\n",
        "\n",
        "import warnings\n",
        "warnings.filterwarnings(\"ignore\")"
      ]
    },
    {
      "cell_type": "code",
      "execution_count": 3,
      "metadata": {
        "colab": {
          "base_uri": "https://localhost:8080/",
          "height": 226
        },
        "id": "WA74fs3AXdk1",
        "outputId": "f73ffc0b-3e1d-4114-c41b-13dc5c03844c"
      },
      "outputs": [
        {
          "output_type": "execute_result",
          "data": {
            "text/plain": [
              "   person_age person_gender person_education  person_income  person_emp_exp  \\\n",
              "0        22.0        female           Master        71948.0               0   \n",
              "1        21.0        female      High School        12282.0               0   \n",
              "2        25.0        female      High School        12438.0               3   \n",
              "3        23.0        female         Bachelor        79753.0               0   \n",
              "4        24.0          male           Master        66135.0               1   \n",
              "\n",
              "  person_home_ownership  loan_amnt loan_intent  loan_int_rate  \\\n",
              "0                  RENT    35000.0    PERSONAL          16.02   \n",
              "1                   OWN     1000.0   EDUCATION          11.14   \n",
              "2              MORTGAGE     5500.0     MEDICAL          12.87   \n",
              "3                  RENT    35000.0     MEDICAL          15.23   \n",
              "4                  RENT    35000.0     MEDICAL          14.27   \n",
              "\n",
              "   loan_percent_income  cb_person_cred_hist_length  credit_score  \\\n",
              "0                 0.49                         3.0           561   \n",
              "1                 0.08                         2.0           504   \n",
              "2                 0.44                         3.0           635   \n",
              "3                 0.44                         2.0           675   \n",
              "4                 0.53                         4.0           586   \n",
              "\n",
              "  previous_loan_defaults_on_file  loan_status  \n",
              "0                             No            1  \n",
              "1                            Yes            0  \n",
              "2                             No            1  \n",
              "3                             No            1  \n",
              "4                             No            1  "
            ],
            "text/html": [
              "\n",
              "  <div id=\"df-ccdacdd0-c388-49a8-9bde-6cdaed17f00d\" class=\"colab-df-container\">\n",
              "    <div>\n",
              "<style scoped>\n",
              "    .dataframe tbody tr th:only-of-type {\n",
              "        vertical-align: middle;\n",
              "    }\n",
              "\n",
              "    .dataframe tbody tr th {\n",
              "        vertical-align: top;\n",
              "    }\n",
              "\n",
              "    .dataframe thead th {\n",
              "        text-align: right;\n",
              "    }\n",
              "</style>\n",
              "<table border=\"1\" class=\"dataframe\">\n",
              "  <thead>\n",
              "    <tr style=\"text-align: right;\">\n",
              "      <th></th>\n",
              "      <th>person_age</th>\n",
              "      <th>person_gender</th>\n",
              "      <th>person_education</th>\n",
              "      <th>person_income</th>\n",
              "      <th>person_emp_exp</th>\n",
              "      <th>person_home_ownership</th>\n",
              "      <th>loan_amnt</th>\n",
              "      <th>loan_intent</th>\n",
              "      <th>loan_int_rate</th>\n",
              "      <th>loan_percent_income</th>\n",
              "      <th>cb_person_cred_hist_length</th>\n",
              "      <th>credit_score</th>\n",
              "      <th>previous_loan_defaults_on_file</th>\n",
              "      <th>loan_status</th>\n",
              "    </tr>\n",
              "  </thead>\n",
              "  <tbody>\n",
              "    <tr>\n",
              "      <th>0</th>\n",
              "      <td>22.0</td>\n",
              "      <td>female</td>\n",
              "      <td>Master</td>\n",
              "      <td>71948.0</td>\n",
              "      <td>0</td>\n",
              "      <td>RENT</td>\n",
              "      <td>35000.0</td>\n",
              "      <td>PERSONAL</td>\n",
              "      <td>16.02</td>\n",
              "      <td>0.49</td>\n",
              "      <td>3.0</td>\n",
              "      <td>561</td>\n",
              "      <td>No</td>\n",
              "      <td>1</td>\n",
              "    </tr>\n",
              "    <tr>\n",
              "      <th>1</th>\n",
              "      <td>21.0</td>\n",
              "      <td>female</td>\n",
              "      <td>High School</td>\n",
              "      <td>12282.0</td>\n",
              "      <td>0</td>\n",
              "      <td>OWN</td>\n",
              "      <td>1000.0</td>\n",
              "      <td>EDUCATION</td>\n",
              "      <td>11.14</td>\n",
              "      <td>0.08</td>\n",
              "      <td>2.0</td>\n",
              "      <td>504</td>\n",
              "      <td>Yes</td>\n",
              "      <td>0</td>\n",
              "    </tr>\n",
              "    <tr>\n",
              "      <th>2</th>\n",
              "      <td>25.0</td>\n",
              "      <td>female</td>\n",
              "      <td>High School</td>\n",
              "      <td>12438.0</td>\n",
              "      <td>3</td>\n",
              "      <td>MORTGAGE</td>\n",
              "      <td>5500.0</td>\n",
              "      <td>MEDICAL</td>\n",
              "      <td>12.87</td>\n",
              "      <td>0.44</td>\n",
              "      <td>3.0</td>\n",
              "      <td>635</td>\n",
              "      <td>No</td>\n",
              "      <td>1</td>\n",
              "    </tr>\n",
              "    <tr>\n",
              "      <th>3</th>\n",
              "      <td>23.0</td>\n",
              "      <td>female</td>\n",
              "      <td>Bachelor</td>\n",
              "      <td>79753.0</td>\n",
              "      <td>0</td>\n",
              "      <td>RENT</td>\n",
              "      <td>35000.0</td>\n",
              "      <td>MEDICAL</td>\n",
              "      <td>15.23</td>\n",
              "      <td>0.44</td>\n",
              "      <td>2.0</td>\n",
              "      <td>675</td>\n",
              "      <td>No</td>\n",
              "      <td>1</td>\n",
              "    </tr>\n",
              "    <tr>\n",
              "      <th>4</th>\n",
              "      <td>24.0</td>\n",
              "      <td>male</td>\n",
              "      <td>Master</td>\n",
              "      <td>66135.0</td>\n",
              "      <td>1</td>\n",
              "      <td>RENT</td>\n",
              "      <td>35000.0</td>\n",
              "      <td>MEDICAL</td>\n",
              "      <td>14.27</td>\n",
              "      <td>0.53</td>\n",
              "      <td>4.0</td>\n",
              "      <td>586</td>\n",
              "      <td>No</td>\n",
              "      <td>1</td>\n",
              "    </tr>\n",
              "  </tbody>\n",
              "</table>\n",
              "</div>\n",
              "    <div class=\"colab-df-buttons\">\n",
              "\n",
              "  <div class=\"colab-df-container\">\n",
              "    <button class=\"colab-df-convert\" onclick=\"convertToInteractive('df-ccdacdd0-c388-49a8-9bde-6cdaed17f00d')\"\n",
              "            title=\"Convert this dataframe to an interactive table.\"\n",
              "            style=\"display:none;\">\n",
              "\n",
              "  <svg xmlns=\"http://www.w3.org/2000/svg\" height=\"24px\" viewBox=\"0 -960 960 960\">\n",
              "    <path d=\"M120-120v-720h720v720H120Zm60-500h600v-160H180v160Zm220 220h160v-160H400v160Zm0 220h160v-160H400v160ZM180-400h160v-160H180v160Zm440 0h160v-160H620v160ZM180-180h160v-160H180v160Zm440 0h160v-160H620v160Z\"/>\n",
              "  </svg>\n",
              "    </button>\n",
              "\n",
              "  <style>\n",
              "    .colab-df-container {\n",
              "      display:flex;\n",
              "      gap: 12px;\n",
              "    }\n",
              "\n",
              "    .colab-df-convert {\n",
              "      background-color: #E8F0FE;\n",
              "      border: none;\n",
              "      border-radius: 50%;\n",
              "      cursor: pointer;\n",
              "      display: none;\n",
              "      fill: #1967D2;\n",
              "      height: 32px;\n",
              "      padding: 0 0 0 0;\n",
              "      width: 32px;\n",
              "    }\n",
              "\n",
              "    .colab-df-convert:hover {\n",
              "      background-color: #E2EBFA;\n",
              "      box-shadow: 0px 1px 2px rgba(60, 64, 67, 0.3), 0px 1px 3px 1px rgba(60, 64, 67, 0.15);\n",
              "      fill: #174EA6;\n",
              "    }\n",
              "\n",
              "    .colab-df-buttons div {\n",
              "      margin-bottom: 4px;\n",
              "    }\n",
              "\n",
              "    [theme=dark] .colab-df-convert {\n",
              "      background-color: #3B4455;\n",
              "      fill: #D2E3FC;\n",
              "    }\n",
              "\n",
              "    [theme=dark] .colab-df-convert:hover {\n",
              "      background-color: #434B5C;\n",
              "      box-shadow: 0px 1px 3px 1px rgba(0, 0, 0, 0.15);\n",
              "      filter: drop-shadow(0px 1px 2px rgba(0, 0, 0, 0.3));\n",
              "      fill: #FFFFFF;\n",
              "    }\n",
              "  </style>\n",
              "\n",
              "    <script>\n",
              "      const buttonEl =\n",
              "        document.querySelector('#df-ccdacdd0-c388-49a8-9bde-6cdaed17f00d button.colab-df-convert');\n",
              "      buttonEl.style.display =\n",
              "        google.colab.kernel.accessAllowed ? 'block' : 'none';\n",
              "\n",
              "      async function convertToInteractive(key) {\n",
              "        const element = document.querySelector('#df-ccdacdd0-c388-49a8-9bde-6cdaed17f00d');\n",
              "        const dataTable =\n",
              "          await google.colab.kernel.invokeFunction('convertToInteractive',\n",
              "                                                    [key], {});\n",
              "        if (!dataTable) return;\n",
              "\n",
              "        const docLinkHtml = 'Like what you see? Visit the ' +\n",
              "          '<a target=\"_blank\" href=https://colab.research.google.com/notebooks/data_table.ipynb>data table notebook</a>'\n",
              "          + ' to learn more about interactive tables.';\n",
              "        element.innerHTML = '';\n",
              "        dataTable['output_type'] = 'display_data';\n",
              "        await google.colab.output.renderOutput(dataTable, element);\n",
              "        const docLink = document.createElement('div');\n",
              "        docLink.innerHTML = docLinkHtml;\n",
              "        element.appendChild(docLink);\n",
              "      }\n",
              "    </script>\n",
              "  </div>\n",
              "\n",
              "\n",
              "<div id=\"df-b499fa45-4822-4862-acdd-c75815b1175e\">\n",
              "  <button class=\"colab-df-quickchart\" onclick=\"quickchart('df-b499fa45-4822-4862-acdd-c75815b1175e')\"\n",
              "            title=\"Suggest charts\"\n",
              "            style=\"display:none;\">\n",
              "\n",
              "<svg xmlns=\"http://www.w3.org/2000/svg\" height=\"24px\"viewBox=\"0 0 24 24\"\n",
              "     width=\"24px\">\n",
              "    <g>\n",
              "        <path d=\"M19 3H5c-1.1 0-2 .9-2 2v14c0 1.1.9 2 2 2h14c1.1 0 2-.9 2-2V5c0-1.1-.9-2-2-2zM9 17H7v-7h2v7zm4 0h-2V7h2v10zm4 0h-2v-4h2v4z\"/>\n",
              "    </g>\n",
              "</svg>\n",
              "  </button>\n",
              "\n",
              "<style>\n",
              "  .colab-df-quickchart {\n",
              "      --bg-color: #E8F0FE;\n",
              "      --fill-color: #1967D2;\n",
              "      --hover-bg-color: #E2EBFA;\n",
              "      --hover-fill-color: #174EA6;\n",
              "      --disabled-fill-color: #AAA;\n",
              "      --disabled-bg-color: #DDD;\n",
              "  }\n",
              "\n",
              "  [theme=dark] .colab-df-quickchart {\n",
              "      --bg-color: #3B4455;\n",
              "      --fill-color: #D2E3FC;\n",
              "      --hover-bg-color: #434B5C;\n",
              "      --hover-fill-color: #FFFFFF;\n",
              "      --disabled-bg-color: #3B4455;\n",
              "      --disabled-fill-color: #666;\n",
              "  }\n",
              "\n",
              "  .colab-df-quickchart {\n",
              "    background-color: var(--bg-color);\n",
              "    border: none;\n",
              "    border-radius: 50%;\n",
              "    cursor: pointer;\n",
              "    display: none;\n",
              "    fill: var(--fill-color);\n",
              "    height: 32px;\n",
              "    padding: 0;\n",
              "    width: 32px;\n",
              "  }\n",
              "\n",
              "  .colab-df-quickchart:hover {\n",
              "    background-color: var(--hover-bg-color);\n",
              "    box-shadow: 0 1px 2px rgba(60, 64, 67, 0.3), 0 1px 3px 1px rgba(60, 64, 67, 0.15);\n",
              "    fill: var(--button-hover-fill-color);\n",
              "  }\n",
              "\n",
              "  .colab-df-quickchart-complete:disabled,\n",
              "  .colab-df-quickchart-complete:disabled:hover {\n",
              "    background-color: var(--disabled-bg-color);\n",
              "    fill: var(--disabled-fill-color);\n",
              "    box-shadow: none;\n",
              "  }\n",
              "\n",
              "  .colab-df-spinner {\n",
              "    border: 2px solid var(--fill-color);\n",
              "    border-color: transparent;\n",
              "    border-bottom-color: var(--fill-color);\n",
              "    animation:\n",
              "      spin 1s steps(1) infinite;\n",
              "  }\n",
              "\n",
              "  @keyframes spin {\n",
              "    0% {\n",
              "      border-color: transparent;\n",
              "      border-bottom-color: var(--fill-color);\n",
              "      border-left-color: var(--fill-color);\n",
              "    }\n",
              "    20% {\n",
              "      border-color: transparent;\n",
              "      border-left-color: var(--fill-color);\n",
              "      border-top-color: var(--fill-color);\n",
              "    }\n",
              "    30% {\n",
              "      border-color: transparent;\n",
              "      border-left-color: var(--fill-color);\n",
              "      border-top-color: var(--fill-color);\n",
              "      border-right-color: var(--fill-color);\n",
              "    }\n",
              "    40% {\n",
              "      border-color: transparent;\n",
              "      border-right-color: var(--fill-color);\n",
              "      border-top-color: var(--fill-color);\n",
              "    }\n",
              "    60% {\n",
              "      border-color: transparent;\n",
              "      border-right-color: var(--fill-color);\n",
              "    }\n",
              "    80% {\n",
              "      border-color: transparent;\n",
              "      border-right-color: var(--fill-color);\n",
              "      border-bottom-color: var(--fill-color);\n",
              "    }\n",
              "    90% {\n",
              "      border-color: transparent;\n",
              "      border-bottom-color: var(--fill-color);\n",
              "    }\n",
              "  }\n",
              "</style>\n",
              "\n",
              "  <script>\n",
              "    async function quickchart(key) {\n",
              "      const quickchartButtonEl =\n",
              "        document.querySelector('#' + key + ' button');\n",
              "      quickchartButtonEl.disabled = true;  // To prevent multiple clicks.\n",
              "      quickchartButtonEl.classList.add('colab-df-spinner');\n",
              "      try {\n",
              "        const charts = await google.colab.kernel.invokeFunction(\n",
              "            'suggestCharts', [key], {});\n",
              "      } catch (error) {\n",
              "        console.error('Error during call to suggestCharts:', error);\n",
              "      }\n",
              "      quickchartButtonEl.classList.remove('colab-df-spinner');\n",
              "      quickchartButtonEl.classList.add('colab-df-quickchart-complete');\n",
              "    }\n",
              "    (() => {\n",
              "      let quickchartButtonEl =\n",
              "        document.querySelector('#df-b499fa45-4822-4862-acdd-c75815b1175e button');\n",
              "      quickchartButtonEl.style.display =\n",
              "        google.colab.kernel.accessAllowed ? 'block' : 'none';\n",
              "    })();\n",
              "  </script>\n",
              "</div>\n",
              "    </div>\n",
              "  </div>\n"
            ],
            "application/vnd.google.colaboratory.intrinsic+json": {
              "type": "dataframe",
              "variable_name": "df",
              "summary": "{\n  \"name\": \"df\",\n  \"rows\": 45000,\n  \"fields\": [\n    {\n      \"column\": \"person_age\",\n      \"properties\": {\n        \"dtype\": \"number\",\n        \"std\": 6.045108211348622,\n        \"min\": 20.0,\n        \"max\": 144.0,\n        \"num_unique_values\": 60,\n        \"samples\": [\n          22.0,\n          26.0,\n          53.0\n        ],\n        \"semantic_type\": \"\",\n        \"description\": \"\"\n      }\n    },\n    {\n      \"column\": \"person_gender\",\n      \"properties\": {\n        \"dtype\": \"category\",\n        \"num_unique_values\": 2,\n        \"samples\": [\n          \"male\",\n          \"female\"\n        ],\n        \"semantic_type\": \"\",\n        \"description\": \"\"\n      }\n    },\n    {\n      \"column\": \"person_education\",\n      \"properties\": {\n        \"dtype\": \"category\",\n        \"num_unique_values\": 5,\n        \"samples\": [\n          \"High School\",\n          \"Doctorate\"\n        ],\n        \"semantic_type\": \"\",\n        \"description\": \"\"\n      }\n    },\n    {\n      \"column\": \"person_income\",\n      \"properties\": {\n        \"dtype\": \"number\",\n        \"std\": 80422.49863189556,\n        \"min\": 8000.0,\n        \"max\": 7200766.0,\n        \"num_unique_values\": 33989,\n        \"samples\": [\n          48967.0,\n          31001.0\n        ],\n        \"semantic_type\": \"\",\n        \"description\": \"\"\n      }\n    },\n    {\n      \"column\": \"person_emp_exp\",\n      \"properties\": {\n        \"dtype\": \"number\",\n        \"std\": 6,\n        \"min\": 0,\n        \"max\": 125,\n        \"num_unique_values\": 63,\n        \"samples\": [\n          93,\n          76\n        ],\n        \"semantic_type\": \"\",\n        \"description\": \"\"\n      }\n    },\n    {\n      \"column\": \"person_home_ownership\",\n      \"properties\": {\n        \"dtype\": \"category\",\n        \"num_unique_values\": 4,\n        \"samples\": [\n          \"OWN\",\n          \"OTHER\"\n        ],\n        \"semantic_type\": \"\",\n        \"description\": \"\"\n      }\n    },\n    {\n      \"column\": \"loan_amnt\",\n      \"properties\": {\n        \"dtype\": \"number\",\n        \"std\": 6314.8866905411405,\n        \"min\": 500.0,\n        \"max\": 35000.0,\n        \"num_unique_values\": 4483,\n        \"samples\": [\n          5800.0,\n          28338.0\n        ],\n        \"semantic_type\": \"\",\n        \"description\": \"\"\n      }\n    },\n    {\n      \"column\": \"loan_intent\",\n      \"properties\": {\n        \"dtype\": \"category\",\n        \"num_unique_values\": 6,\n        \"samples\": [\n          \"PERSONAL\",\n          \"EDUCATION\"\n        ],\n        \"semantic_type\": \"\",\n        \"description\": \"\"\n      }\n    },\n    {\n      \"column\": \"loan_int_rate\",\n      \"properties\": {\n        \"dtype\": \"number\",\n        \"std\": 2.9788082802254734,\n        \"min\": 5.42,\n        \"max\": 20.0,\n        \"num_unique_values\": 1302,\n        \"samples\": [\n          15.0,\n          13.45\n        ],\n        \"semantic_type\": \"\",\n        \"description\": \"\"\n      }\n    },\n    {\n      \"column\": \"loan_percent_income\",\n      \"properties\": {\n        \"dtype\": \"number\",\n        \"std\": 0.08721230801403355,\n        \"min\": 0.0,\n        \"max\": 0.66,\n        \"num_unique_values\": 64,\n        \"samples\": [\n          0.45,\n          0.54\n        ],\n        \"semantic_type\": \"\",\n        \"description\": \"\"\n      }\n    },\n    {\n      \"column\": \"cb_person_cred_hist_length\",\n      \"properties\": {\n        \"dtype\": \"number\",\n        \"std\": 3.8797018451620433,\n        \"min\": 2.0,\n        \"max\": 30.0,\n        \"num_unique_values\": 29,\n        \"samples\": [\n          24.0,\n          25.0\n        ],\n        \"semantic_type\": \"\",\n        \"description\": \"\"\n      }\n    },\n    {\n      \"column\": \"credit_score\",\n      \"properties\": {\n        \"dtype\": \"number\",\n        \"std\": 50,\n        \"min\": 390,\n        \"max\": 850,\n        \"num_unique_values\": 340,\n        \"samples\": [\n          492,\n          484\n        ],\n        \"semantic_type\": \"\",\n        \"description\": \"\"\n      }\n    },\n    {\n      \"column\": \"previous_loan_defaults_on_file\",\n      \"properties\": {\n        \"dtype\": \"category\",\n        \"num_unique_values\": 2,\n        \"samples\": [\n          \"Yes\",\n          \"No\"\n        ],\n        \"semantic_type\": \"\",\n        \"description\": \"\"\n      }\n    },\n    {\n      \"column\": \"loan_status\",\n      \"properties\": {\n        \"dtype\": \"number\",\n        \"std\": 0,\n        \"min\": 0,\n        \"max\": 1,\n        \"num_unique_values\": 2,\n        \"samples\": [\n          0,\n          1\n        ],\n        \"semantic_type\": \"\",\n        \"description\": \"\"\n      }\n    }\n  ]\n}"
            }
          },
          "metadata": {},
          "execution_count": 3
        }
      ],
      "source": [
        "df = pd.read_csv(\"loan_data.csv\")\n",
        "df.head()"
      ]
    },
    {
      "cell_type": "code",
      "execution_count": 4,
      "metadata": {
        "colab": {
          "base_uri": "https://localhost:8080/",
          "height": 300
        },
        "id": "c3xeK9ExN0qw",
        "outputId": "62fd4d14-d8c0-48b9-a199-39b2a68d34cc"
      },
      "outputs": [
        {
          "output_type": "execute_result",
          "data": {
            "text/plain": [
              "         person_age  person_income  person_emp_exp     loan_amnt  \\\n",
              "count  45000.000000   4.500000e+04    45000.000000  45000.000000   \n",
              "mean      27.764178   8.031905e+04        5.410333   9583.157556   \n",
              "std        6.045108   8.042250e+04        6.063532   6314.886691   \n",
              "min       20.000000   8.000000e+03        0.000000    500.000000   \n",
              "25%       24.000000   4.720400e+04        1.000000   5000.000000   \n",
              "50%       26.000000   6.704800e+04        4.000000   8000.000000   \n",
              "75%       30.000000   9.578925e+04        8.000000  12237.250000   \n",
              "max      144.000000   7.200766e+06      125.000000  35000.000000   \n",
              "\n",
              "       loan_int_rate  loan_percent_income  cb_person_cred_hist_length  \\\n",
              "count   45000.000000         45000.000000                45000.000000   \n",
              "mean       11.006606             0.139725                    5.867489   \n",
              "std         2.978808             0.087212                    3.879702   \n",
              "min         5.420000             0.000000                    2.000000   \n",
              "25%         8.590000             0.070000                    3.000000   \n",
              "50%        11.010000             0.120000                    4.000000   \n",
              "75%        12.990000             0.190000                    8.000000   \n",
              "max        20.000000             0.660000                   30.000000   \n",
              "\n",
              "       credit_score   loan_status  \n",
              "count  45000.000000  45000.000000  \n",
              "mean     632.608756      0.222222  \n",
              "std       50.435865      0.415744  \n",
              "min      390.000000      0.000000  \n",
              "25%      601.000000      0.000000  \n",
              "50%      640.000000      0.000000  \n",
              "75%      670.000000      0.000000  \n",
              "max      850.000000      1.000000  "
            ],
            "text/html": [
              "\n",
              "  <div id=\"df-1dfe0b6c-0100-41fb-99bb-6526e474163e\" class=\"colab-df-container\">\n",
              "    <div>\n",
              "<style scoped>\n",
              "    .dataframe tbody tr th:only-of-type {\n",
              "        vertical-align: middle;\n",
              "    }\n",
              "\n",
              "    .dataframe tbody tr th {\n",
              "        vertical-align: top;\n",
              "    }\n",
              "\n",
              "    .dataframe thead th {\n",
              "        text-align: right;\n",
              "    }\n",
              "</style>\n",
              "<table border=\"1\" class=\"dataframe\">\n",
              "  <thead>\n",
              "    <tr style=\"text-align: right;\">\n",
              "      <th></th>\n",
              "      <th>person_age</th>\n",
              "      <th>person_income</th>\n",
              "      <th>person_emp_exp</th>\n",
              "      <th>loan_amnt</th>\n",
              "      <th>loan_int_rate</th>\n",
              "      <th>loan_percent_income</th>\n",
              "      <th>cb_person_cred_hist_length</th>\n",
              "      <th>credit_score</th>\n",
              "      <th>loan_status</th>\n",
              "    </tr>\n",
              "  </thead>\n",
              "  <tbody>\n",
              "    <tr>\n",
              "      <th>count</th>\n",
              "      <td>45000.000000</td>\n",
              "      <td>4.500000e+04</td>\n",
              "      <td>45000.000000</td>\n",
              "      <td>45000.000000</td>\n",
              "      <td>45000.000000</td>\n",
              "      <td>45000.000000</td>\n",
              "      <td>45000.000000</td>\n",
              "      <td>45000.000000</td>\n",
              "      <td>45000.000000</td>\n",
              "    </tr>\n",
              "    <tr>\n",
              "      <th>mean</th>\n",
              "      <td>27.764178</td>\n",
              "      <td>8.031905e+04</td>\n",
              "      <td>5.410333</td>\n",
              "      <td>9583.157556</td>\n",
              "      <td>11.006606</td>\n",
              "      <td>0.139725</td>\n",
              "      <td>5.867489</td>\n",
              "      <td>632.608756</td>\n",
              "      <td>0.222222</td>\n",
              "    </tr>\n",
              "    <tr>\n",
              "      <th>std</th>\n",
              "      <td>6.045108</td>\n",
              "      <td>8.042250e+04</td>\n",
              "      <td>6.063532</td>\n",
              "      <td>6314.886691</td>\n",
              "      <td>2.978808</td>\n",
              "      <td>0.087212</td>\n",
              "      <td>3.879702</td>\n",
              "      <td>50.435865</td>\n",
              "      <td>0.415744</td>\n",
              "    </tr>\n",
              "    <tr>\n",
              "      <th>min</th>\n",
              "      <td>20.000000</td>\n",
              "      <td>8.000000e+03</td>\n",
              "      <td>0.000000</td>\n",
              "      <td>500.000000</td>\n",
              "      <td>5.420000</td>\n",
              "      <td>0.000000</td>\n",
              "      <td>2.000000</td>\n",
              "      <td>390.000000</td>\n",
              "      <td>0.000000</td>\n",
              "    </tr>\n",
              "    <tr>\n",
              "      <th>25%</th>\n",
              "      <td>24.000000</td>\n",
              "      <td>4.720400e+04</td>\n",
              "      <td>1.000000</td>\n",
              "      <td>5000.000000</td>\n",
              "      <td>8.590000</td>\n",
              "      <td>0.070000</td>\n",
              "      <td>3.000000</td>\n",
              "      <td>601.000000</td>\n",
              "      <td>0.000000</td>\n",
              "    </tr>\n",
              "    <tr>\n",
              "      <th>50%</th>\n",
              "      <td>26.000000</td>\n",
              "      <td>6.704800e+04</td>\n",
              "      <td>4.000000</td>\n",
              "      <td>8000.000000</td>\n",
              "      <td>11.010000</td>\n",
              "      <td>0.120000</td>\n",
              "      <td>4.000000</td>\n",
              "      <td>640.000000</td>\n",
              "      <td>0.000000</td>\n",
              "    </tr>\n",
              "    <tr>\n",
              "      <th>75%</th>\n",
              "      <td>30.000000</td>\n",
              "      <td>9.578925e+04</td>\n",
              "      <td>8.000000</td>\n",
              "      <td>12237.250000</td>\n",
              "      <td>12.990000</td>\n",
              "      <td>0.190000</td>\n",
              "      <td>8.000000</td>\n",
              "      <td>670.000000</td>\n",
              "      <td>0.000000</td>\n",
              "    </tr>\n",
              "    <tr>\n",
              "      <th>max</th>\n",
              "      <td>144.000000</td>\n",
              "      <td>7.200766e+06</td>\n",
              "      <td>125.000000</td>\n",
              "      <td>35000.000000</td>\n",
              "      <td>20.000000</td>\n",
              "      <td>0.660000</td>\n",
              "      <td>30.000000</td>\n",
              "      <td>850.000000</td>\n",
              "      <td>1.000000</td>\n",
              "    </tr>\n",
              "  </tbody>\n",
              "</table>\n",
              "</div>\n",
              "    <div class=\"colab-df-buttons\">\n",
              "\n",
              "  <div class=\"colab-df-container\">\n",
              "    <button class=\"colab-df-convert\" onclick=\"convertToInteractive('df-1dfe0b6c-0100-41fb-99bb-6526e474163e')\"\n",
              "            title=\"Convert this dataframe to an interactive table.\"\n",
              "            style=\"display:none;\">\n",
              "\n",
              "  <svg xmlns=\"http://www.w3.org/2000/svg\" height=\"24px\" viewBox=\"0 -960 960 960\">\n",
              "    <path d=\"M120-120v-720h720v720H120Zm60-500h600v-160H180v160Zm220 220h160v-160H400v160Zm0 220h160v-160H400v160ZM180-400h160v-160H180v160Zm440 0h160v-160H620v160ZM180-180h160v-160H180v160Zm440 0h160v-160H620v160Z\"/>\n",
              "  </svg>\n",
              "    </button>\n",
              "\n",
              "  <style>\n",
              "    .colab-df-container {\n",
              "      display:flex;\n",
              "      gap: 12px;\n",
              "    }\n",
              "\n",
              "    .colab-df-convert {\n",
              "      background-color: #E8F0FE;\n",
              "      border: none;\n",
              "      border-radius: 50%;\n",
              "      cursor: pointer;\n",
              "      display: none;\n",
              "      fill: #1967D2;\n",
              "      height: 32px;\n",
              "      padding: 0 0 0 0;\n",
              "      width: 32px;\n",
              "    }\n",
              "\n",
              "    .colab-df-convert:hover {\n",
              "      background-color: #E2EBFA;\n",
              "      box-shadow: 0px 1px 2px rgba(60, 64, 67, 0.3), 0px 1px 3px 1px rgba(60, 64, 67, 0.15);\n",
              "      fill: #174EA6;\n",
              "    }\n",
              "\n",
              "    .colab-df-buttons div {\n",
              "      margin-bottom: 4px;\n",
              "    }\n",
              "\n",
              "    [theme=dark] .colab-df-convert {\n",
              "      background-color: #3B4455;\n",
              "      fill: #D2E3FC;\n",
              "    }\n",
              "\n",
              "    [theme=dark] .colab-df-convert:hover {\n",
              "      background-color: #434B5C;\n",
              "      box-shadow: 0px 1px 3px 1px rgba(0, 0, 0, 0.15);\n",
              "      filter: drop-shadow(0px 1px 2px rgba(0, 0, 0, 0.3));\n",
              "      fill: #FFFFFF;\n",
              "    }\n",
              "  </style>\n",
              "\n",
              "    <script>\n",
              "      const buttonEl =\n",
              "        document.querySelector('#df-1dfe0b6c-0100-41fb-99bb-6526e474163e button.colab-df-convert');\n",
              "      buttonEl.style.display =\n",
              "        google.colab.kernel.accessAllowed ? 'block' : 'none';\n",
              "\n",
              "      async function convertToInteractive(key) {\n",
              "        const element = document.querySelector('#df-1dfe0b6c-0100-41fb-99bb-6526e474163e');\n",
              "        const dataTable =\n",
              "          await google.colab.kernel.invokeFunction('convertToInteractive',\n",
              "                                                    [key], {});\n",
              "        if (!dataTable) return;\n",
              "\n",
              "        const docLinkHtml = 'Like what you see? Visit the ' +\n",
              "          '<a target=\"_blank\" href=https://colab.research.google.com/notebooks/data_table.ipynb>data table notebook</a>'\n",
              "          + ' to learn more about interactive tables.';\n",
              "        element.innerHTML = '';\n",
              "        dataTable['output_type'] = 'display_data';\n",
              "        await google.colab.output.renderOutput(dataTable, element);\n",
              "        const docLink = document.createElement('div');\n",
              "        docLink.innerHTML = docLinkHtml;\n",
              "        element.appendChild(docLink);\n",
              "      }\n",
              "    </script>\n",
              "  </div>\n",
              "\n",
              "\n",
              "<div id=\"df-5bd9a968-618f-4cc0-8313-9d60a617cdc6\">\n",
              "  <button class=\"colab-df-quickchart\" onclick=\"quickchart('df-5bd9a968-618f-4cc0-8313-9d60a617cdc6')\"\n",
              "            title=\"Suggest charts\"\n",
              "            style=\"display:none;\">\n",
              "\n",
              "<svg xmlns=\"http://www.w3.org/2000/svg\" height=\"24px\"viewBox=\"0 0 24 24\"\n",
              "     width=\"24px\">\n",
              "    <g>\n",
              "        <path d=\"M19 3H5c-1.1 0-2 .9-2 2v14c0 1.1.9 2 2 2h14c1.1 0 2-.9 2-2V5c0-1.1-.9-2-2-2zM9 17H7v-7h2v7zm4 0h-2V7h2v10zm4 0h-2v-4h2v4z\"/>\n",
              "    </g>\n",
              "</svg>\n",
              "  </button>\n",
              "\n",
              "<style>\n",
              "  .colab-df-quickchart {\n",
              "      --bg-color: #E8F0FE;\n",
              "      --fill-color: #1967D2;\n",
              "      --hover-bg-color: #E2EBFA;\n",
              "      --hover-fill-color: #174EA6;\n",
              "      --disabled-fill-color: #AAA;\n",
              "      --disabled-bg-color: #DDD;\n",
              "  }\n",
              "\n",
              "  [theme=dark] .colab-df-quickchart {\n",
              "      --bg-color: #3B4455;\n",
              "      --fill-color: #D2E3FC;\n",
              "      --hover-bg-color: #434B5C;\n",
              "      --hover-fill-color: #FFFFFF;\n",
              "      --disabled-bg-color: #3B4455;\n",
              "      --disabled-fill-color: #666;\n",
              "  }\n",
              "\n",
              "  .colab-df-quickchart {\n",
              "    background-color: var(--bg-color);\n",
              "    border: none;\n",
              "    border-radius: 50%;\n",
              "    cursor: pointer;\n",
              "    display: none;\n",
              "    fill: var(--fill-color);\n",
              "    height: 32px;\n",
              "    padding: 0;\n",
              "    width: 32px;\n",
              "  }\n",
              "\n",
              "  .colab-df-quickchart:hover {\n",
              "    background-color: var(--hover-bg-color);\n",
              "    box-shadow: 0 1px 2px rgba(60, 64, 67, 0.3), 0 1px 3px 1px rgba(60, 64, 67, 0.15);\n",
              "    fill: var(--button-hover-fill-color);\n",
              "  }\n",
              "\n",
              "  .colab-df-quickchart-complete:disabled,\n",
              "  .colab-df-quickchart-complete:disabled:hover {\n",
              "    background-color: var(--disabled-bg-color);\n",
              "    fill: var(--disabled-fill-color);\n",
              "    box-shadow: none;\n",
              "  }\n",
              "\n",
              "  .colab-df-spinner {\n",
              "    border: 2px solid var(--fill-color);\n",
              "    border-color: transparent;\n",
              "    border-bottom-color: var(--fill-color);\n",
              "    animation:\n",
              "      spin 1s steps(1) infinite;\n",
              "  }\n",
              "\n",
              "  @keyframes spin {\n",
              "    0% {\n",
              "      border-color: transparent;\n",
              "      border-bottom-color: var(--fill-color);\n",
              "      border-left-color: var(--fill-color);\n",
              "    }\n",
              "    20% {\n",
              "      border-color: transparent;\n",
              "      border-left-color: var(--fill-color);\n",
              "      border-top-color: var(--fill-color);\n",
              "    }\n",
              "    30% {\n",
              "      border-color: transparent;\n",
              "      border-left-color: var(--fill-color);\n",
              "      border-top-color: var(--fill-color);\n",
              "      border-right-color: var(--fill-color);\n",
              "    }\n",
              "    40% {\n",
              "      border-color: transparent;\n",
              "      border-right-color: var(--fill-color);\n",
              "      border-top-color: var(--fill-color);\n",
              "    }\n",
              "    60% {\n",
              "      border-color: transparent;\n",
              "      border-right-color: var(--fill-color);\n",
              "    }\n",
              "    80% {\n",
              "      border-color: transparent;\n",
              "      border-right-color: var(--fill-color);\n",
              "      border-bottom-color: var(--fill-color);\n",
              "    }\n",
              "    90% {\n",
              "      border-color: transparent;\n",
              "      border-bottom-color: var(--fill-color);\n",
              "    }\n",
              "  }\n",
              "</style>\n",
              "\n",
              "  <script>\n",
              "    async function quickchart(key) {\n",
              "      const quickchartButtonEl =\n",
              "        document.querySelector('#' + key + ' button');\n",
              "      quickchartButtonEl.disabled = true;  // To prevent multiple clicks.\n",
              "      quickchartButtonEl.classList.add('colab-df-spinner');\n",
              "      try {\n",
              "        const charts = await google.colab.kernel.invokeFunction(\n",
              "            'suggestCharts', [key], {});\n",
              "      } catch (error) {\n",
              "        console.error('Error during call to suggestCharts:', error);\n",
              "      }\n",
              "      quickchartButtonEl.classList.remove('colab-df-spinner');\n",
              "      quickchartButtonEl.classList.add('colab-df-quickchart-complete');\n",
              "    }\n",
              "    (() => {\n",
              "      let quickchartButtonEl =\n",
              "        document.querySelector('#df-5bd9a968-618f-4cc0-8313-9d60a617cdc6 button');\n",
              "      quickchartButtonEl.style.display =\n",
              "        google.colab.kernel.accessAllowed ? 'block' : 'none';\n",
              "    })();\n",
              "  </script>\n",
              "</div>\n",
              "    </div>\n",
              "  </div>\n"
            ],
            "application/vnd.google.colaboratory.intrinsic+json": {
              "type": "dataframe",
              "summary": "{\n  \"name\": \"df\",\n  \"rows\": 8,\n  \"fields\": [\n    {\n      \"column\": \"person_age\",\n      \"properties\": {\n        \"dtype\": \"number\",\n        \"std\": 15895.92981900713,\n        \"min\": 6.045108211348622,\n        \"max\": 45000.0,\n        \"num_unique_values\": 8,\n        \"samples\": [\n          27.76417777777778,\n          26.0,\n          45000.0\n        ],\n        \"semantic_type\": \"\",\n        \"description\": \"\"\n      }\n    },\n    {\n      \"column\": \"person_income\",\n      \"properties\": {\n        \"dtype\": \"number\",\n        \"std\": 2524599.5465676305,\n        \"min\": 8000.0,\n        \"max\": 7200766.0,\n        \"num_unique_values\": 8,\n        \"samples\": [\n          80319.05322222222,\n          67048.0,\n          45000.0\n        ],\n        \"semantic_type\": \"\",\n        \"description\": \"\"\n      }\n    },\n    {\n      \"column\": \"person_emp_exp\",\n      \"properties\": {\n        \"dtype\": \"number\",\n        \"std\": 15902.409513060764,\n        \"min\": 0.0,\n        \"max\": 45000.0,\n        \"num_unique_values\": 8,\n        \"samples\": [\n          5.410333333333333,\n          4.0,\n          45000.0\n        ],\n        \"semantic_type\": \"\",\n        \"description\": \"\"\n      }\n    },\n    {\n      \"column\": \"loan_amnt\",\n      \"properties\": {\n        \"dtype\": \"number\",\n        \"std\": 15907.41915594131,\n        \"min\": 500.0,\n        \"max\": 45000.0,\n        \"num_unique_values\": 8,\n        \"samples\": [\n          9583.157555555556,\n          8000.0,\n          45000.0\n        ],\n        \"semantic_type\": \"\",\n        \"description\": \"\"\n      }\n    },\n    {\n      \"column\": \"loan_int_rate\",\n      \"properties\": {\n        \"dtype\": \"number\",\n        \"std\": 15906.267079441906,\n        \"min\": 2.9788082802254734,\n        \"max\": 45000.0,\n        \"num_unique_values\": 8,\n        \"samples\": [\n          11.006605777777779,\n          11.01,\n          45000.0\n        ],\n        \"semantic_type\": \"\",\n        \"description\": \"\"\n      }\n    },\n    {\n      \"column\": \"loan_percent_income\",\n      \"properties\": {\n        \"dtype\": \"number\",\n        \"std\": 15909.83858800236,\n        \"min\": 0.0,\n        \"max\": 45000.0,\n        \"num_unique_values\": 8,\n        \"samples\": [\n          0.1397248888888889,\n          0.12,\n          45000.0\n        ],\n        \"semantic_type\": \"\",\n        \"description\": \"\"\n      }\n    },\n    {\n      \"column\": \"cb_person_cred_hist_length\",\n      \"properties\": {\n        \"dtype\": \"number\",\n        \"std\": 15907.039026136903,\n        \"min\": 2.0,\n        \"max\": 45000.0,\n        \"num_unique_values\": 8,\n        \"samples\": [\n          5.8674888888888885,\n          4.0,\n          45000.0\n        ],\n        \"semantic_type\": \"\",\n        \"description\": \"\"\n      }\n    },\n    {\n      \"column\": \"credit_score\",\n      \"properties\": {\n        \"dtype\": \"number\",\n        \"std\": 15718.058537708299,\n        \"min\": 50.435865000741984,\n        \"max\": 45000.0,\n        \"num_unique_values\": 8,\n        \"samples\": [\n          632.6087555555556,\n          640.0,\n          45000.0\n        ],\n        \"semantic_type\": \"\",\n        \"description\": \"\"\n      }\n    },\n    {\n      \"column\": \"loan_status\",\n      \"properties\": {\n        \"dtype\": \"number\",\n        \"std\": 15909.819850659878,\n        \"min\": 0.0,\n        \"max\": 45000.0,\n        \"num_unique_values\": 5,\n        \"samples\": [\n          0.2222222222222222,\n          1.0,\n          0.41574432904844355\n        ],\n        \"semantic_type\": \"\",\n        \"description\": \"\"\n      }\n    }\n  ]\n}"
            }
          },
          "metadata": {},
          "execution_count": 4
        }
      ],
      "source": [
        "df.describe()"
      ]
    },
    {
      "cell_type": "markdown",
      "source": [
        "Так как деревья лучше работают с категориальными данными, то возможно в качестве улучшения baseline применима дискретизация некоторых значений."
      ],
      "metadata": {
        "id": "cCufbHd9iwd_"
      }
    },
    {
      "cell_type": "markdown",
      "source": [
        "###Классификация"
      ],
      "metadata": {
        "id": "SBFiFWEhifmR"
      }
    },
    {
      "cell_type": "markdown",
      "source": [
        "####Baseline"
      ],
      "metadata": {
        "id": "L--pgfnvnxjG"
      }
    },
    {
      "cell_type": "code",
      "source": [
        "target = 'loan_status'\n",
        "# one-hot encoding\n",
        "df = pd.get_dummies(df, drop_first=True)\n",
        "X = df.drop(columns=[target])\n",
        "y = df[target]\n",
        "\n",
        "X_train, X_test, y_train, y_test = train_test_split(X, y, test_size=0.3, random_state=42)"
      ],
      "metadata": {
        "id": "T7LqgF6ujTbb"
      },
      "execution_count": 25,
      "outputs": []
    },
    {
      "cell_type": "code",
      "source": [
        "dtree = DecisionTreeClassifier()\n",
        "dtree.fit(X_train, y_train)\n",
        "\n",
        "y_pred = dtree.predict(X_test)"
      ],
      "metadata": {
        "id": "iLBR5v9HjTbc"
      },
      "execution_count": 26,
      "outputs": []
    },
    {
      "cell_type": "code",
      "source": [
        "acc = accuracy_score(y_test, y_pred)\n",
        "print(f\"Accuracy : {acc * 100}\")\n",
        "\n",
        "print(\"Classification Report:\")\n",
        "print(classification_report(y_test, y_pred))\n",
        "\n",
        "# Confusion matrix\n",
        "cm = confusion_matrix(y_test, y_pred)\n",
        "\n",
        "# Draw confusion matrix\n",
        "# Loan approval status: 1 = approved; 0 = rejected\n",
        "plt.figure(figsize=(7, 5))\n",
        "sns.heatmap(cm, annot=True, fmt='d', cmap='Blues', xticklabels=[\"Class 0\", \"Class 1\"], yticklabels=[\"Class 0\", \"Class 1\"])\n",
        "plt.title('Confusion Matrix')\n",
        "plt.xlabel('Predicted')\n",
        "plt.ylabel('Actual')\n",
        "plt.show()"
      ],
      "metadata": {
        "colab": {
          "base_uri": "https://localhost:8080/",
          "height": 687
        },
        "id": "2xRl5ynjkby3",
        "outputId": "9734a16d-ad96-4110-dcd6-89e516dee56e"
      },
      "execution_count": 27,
      "outputs": [
        {
          "output_type": "stream",
          "name": "stdout",
          "text": [
            "Accuracy : 89.91851851851852\n",
            "Classification Report:\n",
            "              precision    recall  f1-score   support\n",
            "\n",
            "           0       0.94      0.93      0.94     10493\n",
            "           1       0.77      0.78      0.77      3007\n",
            "\n",
            "    accuracy                           0.90     13500\n",
            "   macro avg       0.85      0.86      0.85     13500\n",
            "weighted avg       0.90      0.90      0.90     13500\n",
            "\n"
          ]
        },
        {
          "output_type": "display_data",
          "data": {
            "text/plain": [
              "<Figure size 700x500 with 2 Axes>"
            ],
            "image/png": "[encoded data removed]"
          },
          "metadata": {}
        }
      ]
    },
    {
      "cell_type": "code",
      "source": [
        "# ROC curve\n",
        "y_pred_proba = dtree.predict_proba(X_test)[::,1]\n",
        "fpr, tpr, _ = roc_curve(y_test,  y_pred_proba)\n",
        "auc = roc_auc_score(y_test, y_pred_proba)\n",
        "plt.plot(fpr,tpr,label=\"auc=\"+str(auc))\n",
        "plt.legend(loc=4)\n",
        "plt.show()"
      ],
      "metadata": {
        "colab": {
          "base_uri": "https://localhost:8080/",
          "height": 430
        },
        "outputId": "8c8143f7-3fc3-4b45-9376-0e6fcb5993b6",
        "id": "PowOOJryl6rL"
      },
      "execution_count": 28,
      "outputs": [
        {
          "output_type": "display_data",
          "data": {
            "text/plain": [
              "<Figure size 640x480 with 1 Axes>"
            ],
            "image/png": "[encoded data removed]"
          },
          "metadata": {}
        }
      ]
    },
    {
      "cell_type": "markdown",
      "source": [
        "####Улучшенный бейзлайн:"
      ],
      "metadata": {
        "id": "V6nuStwsjO8w"
      }
    },
    {
      "cell_type": "markdown",
      "source": [
        "Гипотеза 1. Нормализация данных улучшает точность модели"
      ],
      "metadata": {
        "id": "Rsy1rh_XmC05"
      }
    },
    {
      "cell_type": "code",
      "source": [
        "# one-hot encoding\n",
        "df = pd.read_csv(\"loan_data.csv\")\n",
        "df = pd.get_dummies(df, drop_first=True)\n",
        "target = 'loan_status'\n",
        "X = df.drop(columns=[target])\n",
        "y = df[target]"
      ],
      "metadata": {
        "id": "fP0WLd0GiDpp"
      },
      "execution_count": 54,
      "outputs": []
    },
    {
      "cell_type": "code",
      "source": [
        "# нормализация данных\n",
        "scaler = StandardScaler()\n",
        "scaled_data = scaler.fit_transform(X)\n",
        "X_scaled = pd.DataFrame(scaled_data, columns = X.columns.values)"
      ],
      "metadata": {
        "id": "nCJw8lBSlPbv"
      },
      "execution_count": 55,
      "outputs": []
    },
    {
      "cell_type": "code",
      "source": [
        "X_train, X_test, y_train, y_test = train_test_split(X_scaled, y, test_size=0.3, random_state=42)"
      ],
      "metadata": {
        "id": "c8xCtgQslkgB"
      },
      "execution_count": 56,
      "outputs": []
    },
    {
      "cell_type": "code",
      "source": [
        "dtree = DecisionTreeClassifier()\n",
        "dtree.fit(X_train, y_train)\n",
        "\n",
        "y_pred = dtree.predict(X_test)"
      ],
      "metadata": {
        "id": "Ztbv5-14l6rK"
      },
      "execution_count": 57,
      "outputs": []
    },
    {
      "cell_type": "code",
      "source": [
        "acc = accuracy_score(y_test, y_pred)\n",
        "print(f\"Accuracy : {acc * 100}\")\n",
        "\n",
        "print(\"Classification Report:\")\n",
        "print(classification_report(y_test, y_pred))\n",
        "\n",
        "# Confusion matrix\n",
        "cm = confusion_matrix(y_test, y_pred)\n",
        "\n",
        "# Draw confusion matrix\n",
        "# Loan approval status: 1 = approved; 0 = rejected\n",
        "plt.figure(figsize=(7, 5))\n",
        "sns.heatmap(cm, annot=True, fmt='d', cmap='Blues', xticklabels=[\"Class 0\", \"Class 1\"], yticklabels=[\"Class 0\", \"Class 1\"])\n",
        "plt.title('Confusion Matrix')\n",
        "plt.xlabel('Predicted')\n",
        "plt.ylabel('Actual')\n",
        "plt.show()"
      ],
      "metadata": {
        "colab": {
          "base_uri": "https://localhost:8080/",
          "height": 687
        },
        "outputId": "47970775-0815-494b-8abc-e5d785926992",
        "id": "GkP6cl-3l6rL"
      },
      "execution_count": 58,
      "outputs": [
        {
          "output_type": "stream",
          "name": "stdout",
          "text": [
            "Accuracy : 90.0\n",
            "Classification Report:\n",
            "              precision    recall  f1-score   support\n",
            "\n",
            "           0       0.94      0.93      0.94     10493\n",
            "           1       0.77      0.78      0.78      3007\n",
            "\n",
            "    accuracy                           0.90     13500\n",
            "   macro avg       0.85      0.86      0.86     13500\n",
            "weighted avg       0.90      0.90      0.90     13500\n",
            "\n"
          ]
        },
        {
          "output_type": "display_data",
          "data": {
            "text/plain": [
              "<Figure size 700x500 with 2 Axes>"
            ],
            "image/png": "[encoded data removed]"
          },
          "metadata": {}
        }
      ]
    },
    {
      "cell_type": "markdown",
      "source": [
        "Гипотеза 2. Подбор гиперпараметров"
      ],
      "metadata": {
        "id": "MGa0mYACn3je"
      }
    },
    {
      "cell_type": "markdown",
      "source": [
        "Ограничим глубину дерева, чтобы избежать переобучения, значения для min_samples_split и min_samples_leaf увеличены, чтобы предотвратить излишнюю тонкость в разбиении данных на более мелкие группы, используется параметр class_weight='balanced' для автоматической корректировки веса классов, что поможет для наших сильно несбалансированных данных."
      ],
      "metadata": {
        "id": "yzc37cjEsyZV"
      }
    },
    {
      "cell_type": "code",
      "source": [
        "y_train = y_train.astype(int)\n",
        "y_test = y_test.astype(int)\n",
        "\n",
        "param_grid = {\n",
        "    'max_depth': np.arange(1, 15),\n",
        "    'min_samples_split': [5, 10, 20],\n",
        "    'min_samples_leaf': [2, 4, 6],\n",
        "    'criterion': ['gini', 'entropy'],\n",
        "    'class_weight': ['balanced', None]\n",
        "}\n",
        "tree_best = GridSearchCV(estimator=dtree, param_grid=param_grid, cv=5, scoring='f1_weighted', n_jobs=-1)\n",
        "\n",
        "tree_best.fit(X_train, y_train)\n",
        "\n",
        "print(tree_best.best_estimator_.get_params())\n",
        "\n",
        "y_pred = tree_best.predict(X_test)"
      ],
      "metadata": {
        "colab": {
          "base_uri": "https://localhost:8080/"
        },
        "id": "7iSjbjp8i7hA",
        "outputId": "0689d0cd-f4cf-4e6f-fb6a-595c9d116a20"
      },
      "execution_count": 60,
      "outputs": [
        {
          "output_type": "stream",
          "name": "stdout",
          "text": [
            "{'ccp_alpha': 0.0, 'class_weight': None, 'criterion': 'entropy', 'max_depth': 11, 'max_features': None, 'max_leaf_nodes': None, 'min_impurity_decrease': 0.0, 'min_samples_leaf': 6, 'min_samples_split': 20, 'min_weight_fraction_leaf': 0.0, 'monotonic_cst': None, 'random_state': None, 'splitter': 'best'}\n"
          ]
        }
      ]
    },
    {
      "cell_type": "code",
      "source": [
        "acc = accuracy_score(y_test, y_pred)\n",
        "print(f\"Accuracy : {acc * 100}\")\n",
        "\n",
        "print(\"Classification Report:\")\n",
        "print(classification_report(y_test, y_pred))\n",
        "\n",
        "# Confusion matrix\n",
        "cm = confusion_matrix(y_test, y_pred)\n",
        "\n",
        "# Draw confusion matrix\n",
        "# Loan approval status: 1 = approved; 0 = rejected\n",
        "plt.figure(figsize=(7, 5))\n",
        "sns.heatmap(cm, annot=True, fmt='d', cmap='Blues', xticklabels=[\"Class 0\", \"Class 1\"], yticklabels=[\"Class 0\", \"Class 1\"])\n",
        "plt.title('Confusion Matrix')\n",
        "plt.xlabel('Predicted')\n",
        "plt.ylabel('Actual')\n",
        "plt.show()"
      ],
      "metadata": {
        "colab": {
          "base_uri": "https://localhost:8080/",
          "height": 687
        },
        "id": "zs54DyiFnksO",
        "outputId": "8f1d579b-0be0-4500-87ac-11137e76368a"
      },
      "execution_count": 61,
      "outputs": [
        {
          "output_type": "stream",
          "name": "stdout",
          "text": [
            "Accuracy : 91.8962962962963\n",
            "Classification Report:\n",
            "              precision    recall  f1-score   support\n",
            "\n",
            "           0       0.93      0.97      0.95     10493\n",
            "           1       0.87      0.75      0.81      3007\n",
            "\n",
            "    accuracy                           0.92     13500\n",
            "   macro avg       0.90      0.86      0.88     13500\n",
            "weighted avg       0.92      0.92      0.92     13500\n",
            "\n"
          ]
        },
        {
          "output_type": "display_data",
          "data": {
            "text/plain": [
              "<Figure size 700x500 with 2 Axes>"
            ],
            "image/png": "[encoded data removed]"
          },
          "metadata": {}
        }
      ]
    },
    {
      "cell_type": "code",
      "source": [
        "# ROC curve\n",
        "y_pred_proba = dtree.predict_proba(X_test)[::,1]\n",
        "fpr, tpr, _ = roc_curve(y_test,  y_pred_proba)\n",
        "auc = roc_auc_score(y_test, y_pred_proba)\n",
        "plt.plot(fpr,tpr,label=\"auc=\"+str(auc))\n",
        "plt.legend(loc=4)\n",
        "plt.show()"
      ],
      "metadata": {
        "colab": {
          "base_uri": "https://localhost:8080/",
          "height": 430
        },
        "id": "mEWm5Rgenogn",
        "outputId": "c682ba1d-46e1-49ca-9387-841141caa176"
      },
      "execution_count": 62,
      "outputs": [
        {
          "output_type": "display_data",
          "data": {
            "text/plain": [
              "<Figure size 640x480 with 1 Axes>"
            ],
            "image/png": "[encoded data removed]"
          },
          "metadata": {}
        }
      ]
    },
    {
      "cell_type": "markdown",
      "source": [
        "####Вывод:\n",
        "\n",
        "Улучшенный бейзлайн дал значительное улучшение точности для задачи классификации, но пришлось прибегнуть к очень тонкой настройке гиперпараметров."
      ],
      "metadata": {
        "id": "nkV7x5V-n8-G"
      }
    },
    {
      "cell_type": "markdown",
      "source": [
        "###Регрессия"
      ],
      "metadata": {
        "id": "EqvUDqfjiciG"
      }
    },
    {
      "cell_type": "markdown",
      "source": [
        "####Baseline"
      ],
      "metadata": {
        "id": "ihrjvQqWoN4X"
      }
    },
    {
      "cell_type": "code",
      "execution_count": 63,
      "metadata": {
        "id": "2kq9RGGTMPCH"
      },
      "outputs": [],
      "source": [
        "# one-hot encoding\n",
        "df = pd.get_dummies(df, drop_first=True)\n",
        "target = 'loan_int_rate'\n",
        "X = df.drop(columns=[target])\n",
        "y = df[target]\n",
        "\n",
        "X_train, X_test, y_train, y_test = train_test_split(X, y, test_size=0.3, random_state=42)"
      ]
    },
    {
      "cell_type": "code",
      "execution_count": 67,
      "metadata": {
        "id": "b018d9b0"
      },
      "outputs": [],
      "source": [
        "# обучение модели регрессии\n",
        "dt_regressor = DecisionTreeRegressor(max_depth=5, min_samples_split=10, min_samples_leaf=5, random_state=42)\n",
        "\n",
        "dt_regressor.fit(X_train, y_train)\n",
        "\n",
        "y_pred = dt_regressor.predict(X_test)"
      ]
    },
    {
      "cell_type": "markdown",
      "metadata": {
        "id": "Fp_8jcaw5tKA"
      },
      "source": [
        "Оценим качество модели по метрикам для регрессии:"
      ]
    },
    {
      "cell_type": "code",
      "execution_count": 68,
      "metadata": {
        "colab": {
          "base_uri": "https://localhost:8080/"
        },
        "id": "c7f7e5c9",
        "outputId": "78ac1ab1-993b-4bcf-93a5-4022e818b274"
      },
      "outputs": [
        {
          "output_type": "stream",
          "name": "stdout",
          "text": [
            "Mean Squared Error: 7.34793719802113\n",
            "Mean Absolute Error: 2.2015143633228935\n",
            "Mean Absolute Percentage Error (%): 0.22495313587612004\n",
            "R² Score: 0.16402963534081894\n"
          ]
        }
      ],
      "source": [
        "features = X_test\n",
        "y_pred = dt_regressor.predict(features)\n",
        "\n",
        "mse = mean_squared_error(y_test, y_pred)\n",
        "mae = mean_absolute_error(y_test, y_pred)\n",
        "mape = mean_absolute_percentage_error(y_test, y_pred)\n",
        "r2 = r2_score(y_test, y_pred)\n",
        "\n",
        "print(f'Mean Squared Error: {mse}')\n",
        "print(f'Mean Absolute Error: {mae}')\n",
        "print(f'Mean Absolute Percentage Error (%): {mape}')\n",
        "print(f'R² Score: {r2}')"
      ]
    },
    {
      "cell_type": "markdown",
      "metadata": {
        "id": "YqXKuJST6iKC"
      },
      "source": [
        "Модель точна, если MAE и MSE близки к нулю, а r2 - к единице. В нашем случае это не совсем так, но могло быть и хуже."
      ]
    },
    {
      "cell_type": "markdown",
      "source": [
        "####Улучшенный baseline"
      ],
      "metadata": {
        "id": "TKz4egM-oP8a"
      }
    },
    {
      "cell_type": "markdown",
      "source": [
        "Нормализуем данные (гипотеза 1), настроим гиперпараметры модели с помощью GridSearchCV (гипотеза 2)."
      ],
      "metadata": {
        "id": "wV--HJdVwxJG"
      }
    },
    {
      "cell_type": "code",
      "execution_count": 69,
      "metadata": {
        "id": "1nDnGlYlxHbM"
      },
      "outputs": [],
      "source": [
        "# one-hot encoding\n",
        "df = pd.get_dummies(df, drop_first=True)\n",
        "target = 'loan_int_rate'\n",
        "X = df.drop(columns=[target])\n",
        "y = df[target]\n",
        "\n",
        "X_train, X_test, y_train, y_test = train_test_split(X, y, test_size=0.3, random_state=42)"
      ]
    },
    {
      "cell_type": "code",
      "source": [
        "# нормализация данных\n",
        "scaler = StandardScaler()\n",
        "scaled_data = scaler.fit_transform(X)\n",
        "X_scaled = pd.DataFrame(scaled_data, columns = X.columns.values)"
      ],
      "metadata": {
        "id": "g4TUGKkWxMoG"
      },
      "execution_count": 70,
      "outputs": []
    },
    {
      "cell_type": "code",
      "source": [
        "X_train, X_test, y_train, y_test = train_test_split(X_scaled, y, test_size=0.3, random_state=42)"
      ],
      "metadata": {
        "id": "WAfj5b8zxMoH"
      },
      "execution_count": 71,
      "outputs": []
    },
    {
      "cell_type": "code",
      "source": [
        "dt_regressor = DecisionTreeRegressor(random_state=42)\n",
        "\n",
        "param_grid = {\n",
        "    'max_depth': [3, 5, 7, 10, 8, 9],\n",
        "    'min_samples_split': [2, 3, 4, 5, 10],\n",
        "    'min_samples_leaf': [1, 5, 10, 15, 20, 16, 17, 18]\n",
        "}\n",
        "\n",
        "grid_search = GridSearchCV(estimator=dt_regressor, param_grid=param_grid, cv=5, scoring='neg_mean_squared_error')\n",
        "grid_search.fit(X_train, y_train)\n",
        "\n",
        "print(f'Best parameters from GridSearchCV: {grid_search.best_params_}')\n",
        "print(f'Best cross-validation score (MSE): {-grid_search.best_score_}')\n",
        "\n",
        "best_dt_regressor = grid_search.best_estimator_\n",
        "best_dt_regressor.fit(X_train, y_train)\n",
        "\n",
        "y_pred = best_dt_regressor.predict(X_test)"
      ],
      "metadata": {
        "colab": {
          "base_uri": "https://localhost:8080/"
        },
        "id": "R_LP8wbDoUru",
        "outputId": "00e2ecc3-6ccd-4f5a-a27c-7304b24e6776"
      },
      "execution_count": 72,
      "outputs": [
        {
          "output_type": "stream",
          "name": "stdout",
          "text": [
            "Best parameters from GridSearchCV: {'max_depth': 5, 'min_samples_leaf': 1, 'min_samples_split': 2}\n",
            "Best cross-validation score (MSE): 7.432339151497537\n"
          ]
        }
      ]
    },
    {
      "cell_type": "markdown",
      "metadata": {
        "id": "vB49AIXRxWS8"
      },
      "source": [
        "Оценим качество модели по метрикам для регрессии:"
      ]
    },
    {
      "cell_type": "code",
      "execution_count": 74,
      "metadata": {
        "colab": {
          "base_uri": "https://localhost:8080/"
        },
        "outputId": "d0608bca-d4df-4dcb-e2cf-dc0c6c987e8f",
        "id": "FEk1nExrxWS8"
      },
      "outputs": [
        {
          "output_type": "stream",
          "name": "stdout",
          "text": [
            "Mean Squared Error: 7.33715085895169\n",
            "Mean Absolute Error: 2.200053369188359\n",
            "Mean Absolute Percentage Error (%): 0.22483103160571374\n",
            "R² Score: 0.16525679060388332\n"
          ]
        }
      ],
      "source": [
        "features = X_test\n",
        "y_pred = best_dt_regressor.predict(features)\n",
        "\n",
        "mse = mean_squared_error(y_test, y_pred)\n",
        "mae = mean_absolute_error(y_test, y_pred)\n",
        "mape = mean_absolute_percentage_error(y_test, y_pred)\n",
        "r2 = r2_score(y_test, y_pred)\n",
        "\n",
        "print(f'Mean Squared Error: {mse}')\n",
        "print(f'Mean Absolute Error: {mae}')\n",
        "print(f'Mean Absolute Percentage Error (%): {mape}')\n",
        "print(f'R² Score: {r2}')"
      ]
    },
    {
      "cell_type": "markdown",
      "source": [
        "Посмотрим интерпретацию дерева: какие переменные больше всего влияют на результат"
      ],
      "metadata": {
        "id": "ltPux-RhzHHc"
      }
    },
    {
      "cell_type": "code",
      "source": [
        "mse_scores = cross_val_score(best_dt_regressor, X_scaled, y, cv=5, scoring='neg_mean_squared_error')\n",
        "\n",
        "feature_importances = best_dt_regressor.feature_importances_\n",
        "plt.barh(X_scaled.columns, feature_importances)\n",
        "plt.xlabel('Feature Importance')\n",
        "plt.title('Feature Importance of Decision Tree')\n",
        "plt.show()\n",
        ""
      ],
      "metadata": {
        "colab": {
          "base_uri": "https://localhost:8080/",
          "height": 472
        },
        "id": "wPikZMwzyuzc",
        "outputId": "a3348f33-4bd8-408b-fb7c-7d014fd5e8f4"
      },
      "execution_count": 78,
      "outputs": [
        {
          "output_type": "display_data",
          "data": {
            "text/plain": [
              "<Figure size 640x480 with 1 Axes>"
            ],
            "image/png": "[encoded data removed]"
          },
          "metadata": {}
        }
      ]
    },
    {
      "cell_type": "markdown",
      "source": [
        "####Вывод\n",
        "Улучшение baseline регрессии дало небольшое увеличение точности."
      ],
      "metadata": {
        "id": "LdSfB4vNoSl4"
      }
    },
    {
      "cell_type": "markdown",
      "source": [
        "###Самостоятельная имплементация моделей"
      ],
      "metadata": {
        "id": "d4R3K0DAxh3M"
      }
    },
    {
      "cell_type": "markdown",
      "source": [
        "####Классификация"
      ],
      "metadata": {
        "id": "AVe_X1q-xmzT"
      }
    },
    {
      "cell_type": "markdown",
      "source": [
        "#####baseline"
      ],
      "metadata": {
        "id": "hLpxkBR30AKC"
      }
    },
    {
      "cell_type": "code",
      "source": [
        "from typing import Dict, Tuple, Union, Optional\n",
        "import numpy as np\n",
        "import pandas as pd\n",
        "from numpy.typing import NDArray\n",
        "\n",
        "class DecisionTree:\n",
        "    def __init__(self, max_depth: Optional[int] = None) -> None:\n",
        "        \"\"\"\n",
        "        Инициализация дерева решений.\n",
        "\n",
        "        Args:\n",
        "            max_depth: Максимальная глубина дерева. None для неограниченной глубины.\n",
        "        \"\"\"\n",
        "        self.max_depth = max_depth\n",
        "        self.tree = None\n",
        "\n",
        "    def fit(self, X: Union[NDArray, pd.DataFrame], y: Union[NDArray, pd.Series]) -> None:\n",
        "        \"\"\"\n",
        "        Обучение дерева решений.\n",
        "\n",
        "        Args:\n",
        "            X: Матрица признаков (numpy array или pandas DataFrame)\n",
        "            y: Вектор целевых значений (numpy array или pandas Series)\n",
        "        \"\"\"\n",
        "        # Преобразование входных данных в numpy array, если они в pandas формате\n",
        "        if isinstance(X, pd.DataFrame):\n",
        "            X = X.to_numpy()\n",
        "        if isinstance(y, pd.Series):\n",
        "            y = y.to_numpy()\n",
        "\n",
        "        self.tree = self._build_tree(X, y)\n",
        "\n",
        "    def predict(self, X: Union[NDArray, pd.DataFrame]) -> NDArray:\n",
        "        \"\"\"\n",
        "        Предсказание классов для новых данных.\n",
        "\n",
        "        Args:\n",
        "            X: Матрица признаков (numpy array или pandas DataFrame)\n",
        "\n",
        "        Returns:\n",
        "            NDArray: Вектор предсказанных меток классов\n",
        "        \"\"\"\n",
        "        if isinstance(X, pd.DataFrame):\n",
        "            X = X.to_numpy()\n",
        "\n",
        "        return np.array([self._predict_single(x, self.tree) for x in X])\n",
        "\n",
        "\n",
        "    def _build_tree(self, X: NDArray, y: NDArray, depth: int = 0) -> Union[Dict, int]:\n",
        "        \"\"\"\n",
        "        Рекурсивное построение дерева решений.\n",
        "\n",
        "        Args:\n",
        "            X: Матрица признаков\n",
        "            y: Вектор целевых значений\n",
        "            depth: Текущая глубина в дереве\n",
        "\n",
        "        Returns:\n",
        "            Union[Dict, int]: Узел дерева или метка класса\n",
        "        \"\"\"\n",
        "        # Базовые случаи остановки\n",
        "        if len(set(y)) == 1:\n",
        "            return y[0]\n",
        "        if self.max_depth is not None and depth == self.max_depth:\n",
        "            return self._majority_class(y)\n",
        "\n",
        "        # Поиск лучшего разбиения\n",
        "        best_split = self._find_best_split(X, y)\n",
        "        if best_split is None:\n",
        "            return self._majority_class(y)\n",
        "\n",
        "        # Рекурсивное построение поддеревьев\n",
        "        left_X, left_y, right_X, right_y = self._perform_split(X, y, best_split)\n",
        "        return {\n",
        "            'split': best_split,\n",
        "            'left': self._build_tree(left_X, left_y, depth + 1),\n",
        "            'right': self._build_tree(right_X, right_y, depth + 1)\n",
        "        }\n",
        "\n",
        "    def _find_best_split(self, X: NDArray, y: NDArray) -> Optional[Tuple[int, float]]:\n",
        "        \"\"\"\n",
        "        Поиск оптимального разбиения данных.\n",
        "\n",
        "        Args:\n",
        "            X: Матрица признаков\n",
        "            y: Вектор целевых значений\n",
        "\n",
        "        Returns:\n",
        "            Optional[Tuple[int, float]]: (индекс признака, порог) или None\n",
        "        \"\"\"\n",
        "        best_gini = float('inf')\n",
        "        best_split = None\n",
        "\n",
        "        for feature_idx in range(X.shape[1]):\n",
        "            thresholds = np.unique(X[:, feature_idx])\n",
        "            for threshold in thresholds:\n",
        "                left_mask = X[:, feature_idx] <= threshold\n",
        "                right_mask = ~left_mask\n",
        "\n",
        "                gini = self._calculate_gini(y[left_mask], y[right_mask])\n",
        "                if gini < best_gini:\n",
        "                    best_gini = gini\n",
        "                    best_split = (feature_idx, threshold)\n",
        "\n",
        "        return best_split\n",
        "\n",
        "    def _calculate_gini(self, left_y: NDArray, right_y: NDArray) -> float:\n",
        "        \"\"\"\n",
        "        Вычисление индекса Джини для разбиения.\n",
        "\n",
        "        Args:\n",
        "            left_y: Целевые значения левой ветви\n",
        "            right_y: Целевые значения правой ветви\n",
        "\n",
        "        Returns:\n",
        "            float: Взвешенный индекс Джини\n",
        "        \"\"\"\n",
        "        def gini_impurity(y: NDArray) -> float:\n",
        "            proportions = np.bincount(y) / len(y)\n",
        "            return 1 - np.sum(proportions ** 2)\n",
        "\n",
        "        n_left, n_right = len(left_y), len(right_y)\n",
        "        n_total = n_left + n_right\n",
        "\n",
        "        return (n_left / n_total) * gini_impurity(left_y) + \\\n",
        "               (n_right / n_total) * gini_impurity(right_y)\n",
        "\n",
        "    def _perform_split(self, X: NDArray, y: NDArray,\n",
        "                      split: Tuple[int, float]) -> Tuple[NDArray, NDArray, NDArray, NDArray]:\n",
        "        \"\"\"\n",
        "        Разделение данных по выбранному признаку и порогу.\n",
        "\n",
        "        Args:\n",
        "            X: Матрица признаков\n",
        "            y: Вектор целевых значений\n",
        "            split: Кортеж (индекс признака, порог)\n",
        "\n",
        "        Returns:\n",
        "            Tuple[NDArray, NDArray, NDArray, NDArray]: Разделенные данные\n",
        "        \"\"\"\n",
        "        feature_idx, threshold = split\n",
        "        left_mask = X[:, feature_idx] <= threshold\n",
        "        right_mask = ~left_mask\n",
        "\n",
        "        return X[left_mask], y[left_mask], X[right_mask], y[right_mask]\n",
        "\n",
        "    def _majority_class(self, y: NDArray) -> int:\n",
        "        \"\"\"\n",
        "        Определение доминирующего класса.\n",
        "\n",
        "        Args:\n",
        "            y: Вектор целевых значений\n",
        "\n",
        "        Returns:\n",
        "            int: Метка преобладающего класса\n",
        "        \"\"\"\n",
        "        return np.bincount(y).argmax()\n",
        "\n",
        "    def _predict_single(self, x: NDArray, node: Union[Dict, int]) -> int:\n",
        "        \"\"\"\n",
        "        Предсказание класса для одного объекта.\n",
        "\n",
        "        Args:\n",
        "            x: Вектор признаков\n",
        "            node: Узел дерева или метка класса\n",
        "\n",
        "        Returns:\n",
        "            int: Предсказанная метка класса\n",
        "        \"\"\"\n",
        "        if not isinstance(node, dict):\n",
        "            return node\n",
        "\n",
        "        feature_idx, threshold = node['split']\n",
        "        if x[feature_idx] <= threshold:\n",
        "            return self._predict_single(x, node['left'])\n",
        "        return self._predict_single(x, node['right'])"
      ],
      "metadata": {
        "id": "OLrNs3MrxmpW"
      },
      "execution_count": 82,
      "outputs": []
    },
    {
      "cell_type": "code",
      "source": [
        "target = 'loan_status'\n",
        "# one-hot encoding\n",
        "df = pd.get_dummies(df, drop_first=True)\n",
        "X = df.drop(columns=[target])\n",
        "y = df[target]\n",
        "\n",
        "X_train, X_test, y_train, y_test = train_test_split(X, y, test_size=0.3, random_state=42)"
      ],
      "metadata": {
        "id": "3tQJFv9M0M9Y"
      },
      "execution_count": 83,
      "outputs": []
    },
    {
      "cell_type": "code",
      "source": [
        "tree = DecisionTree(max_depth=5)\n",
        "tree.fit(X_train, y_train)\n",
        "\n",
        "y_pred = tree.predict(X_test)"
      ],
      "metadata": {
        "id": "FW3433gg0CwT"
      },
      "execution_count": 84,
      "outputs": []
    },
    {
      "cell_type": "code",
      "source": [
        "acc = accuracy_score(y_test, y_pred)\n",
        "print(f\"Accuracy : {acc * 100}\")\n",
        "\n",
        "print(\"Classification Report:\")\n",
        "print(classification_report(y_test, y_pred))\n",
        "\n",
        "# Confusion matrix\n",
        "cm = confusion_matrix(y_test, y_pred)\n",
        "\n",
        "# Draw confusion matrix\n",
        "# Loan approval status: 1 = approved; 0 = rejected\n",
        "plt.figure(figsize=(7, 5))\n",
        "sns.heatmap(cm, annot=True, fmt='d', cmap='Blues', xticklabels=[\"Class 0\", \"Class 1\"], yticklabels=[\"Class 0\", \"Class 1\"])\n",
        "plt.title('Confusion Matrix')\n",
        "plt.xlabel('Predicted')\n",
        "plt.ylabel('Actual')\n",
        "plt.show()"
      ],
      "metadata": {
        "colab": {
          "base_uri": "https://localhost:8080/",
          "height": 687
        },
        "outputId": "a4c69798-79ec-4a4b-c173-05450da2f311",
        "id": "QdQ8EVeK1QlL"
      },
      "execution_count": 85,
      "outputs": [
        {
          "output_type": "stream",
          "name": "stdout",
          "text": [
            "Accuracy : 91.11111111111111\n",
            "Classification Report:\n",
            "              precision    recall  f1-score   support\n",
            "\n",
            "           0       0.93      0.96      0.94     10493\n",
            "           1       0.85      0.73      0.78      3007\n",
            "\n",
            "    accuracy                           0.91     13500\n",
            "   macro avg       0.89      0.85      0.86     13500\n",
            "weighted avg       0.91      0.91      0.91     13500\n",
            "\n"
          ]
        },
        {
          "output_type": "display_data",
          "data": {
            "text/plain": [
              "<Figure size 700x500 with 2 Axes>"
            ],
            "image/png": "[encoded data removed]"
          },
          "metadata": {}
        }
      ]
    },
    {
      "cell_type": "markdown",
      "source": [
        "#####Улучшенный baseline:"
      ],
      "metadata": {
        "id": "UrpesSpX1-yz"
      }
    },
    {
      "cell_type": "code",
      "source": [
        "from typing import Dict, Tuple, Union, Optional\n",
        "import numpy as np\n",
        "import pandas as pd\n",
        "from numpy.typing import NDArray\n",
        "\n",
        "class DecisionTree:\n",
        "    \"\"\"\n",
        "    Реализация дерева решений для задач классификации с поддержкой балансировки классов.\n",
        "\n",
        "    Attributes:\n",
        "        max_depth (Optional[int]): Максимальная глубина дерева\n",
        "        min_samples_split (int): Минимальное количество образцов для разделения узла\n",
        "        min_samples_leaf (int): Минимальное количество образцов в листовом узле\n",
        "        class_weight (Optional[str]): Метод взвешивания классов ('balanced' или None)\n",
        "    \"\"\"\n",
        "\n",
        "    def __init__(self,\n",
        "                 max_depth: Optional[int] = None,\n",
        "                 min_samples_split: int = 2,\n",
        "                 min_samples_leaf: int = 1,\n",
        "                 class_weight: Optional[str] = None) -> None:\n",
        "        \"\"\"\n",
        "        Инициализация дерева решений.\n",
        "        \"\"\"\n",
        "        self.max_depth = max_depth\n",
        "        self.min_samples_split = min_samples_split\n",
        "        self.min_samples_leaf = min_samples_leaf\n",
        "        self.class_weight = class_weight\n",
        "        self.tree = None\n",
        "        self.class_weights = None\n",
        "\n",
        "    def fit(self, X: Union[NDArray, pd.DataFrame], y: Union[NDArray, pd.Series]) -> 'DecisionTree':\n",
        "        \"\"\"\n",
        "        Обучение дерева решений.\n",
        "\n",
        "        Args:\n",
        "            X: Матрица признаков\n",
        "            y: Вектор целевых значений\n",
        "\n",
        "        Returns:\n",
        "            self: Обученная модель\n",
        "        \"\"\"\n",
        "        # Преобразование входных данных в numpy arrays\n",
        "        X_array = X.to_numpy() if isinstance(X, pd.DataFrame) else X\n",
        "        y_array = y.to_numpy() if isinstance(y, pd.Series) else y\n",
        "\n",
        "        if self.class_weight == 'balanced':\n",
        "            self.class_weights = self._compute_class_weights(y_array)\n",
        "\n",
        "        self.tree = self._build_tree(X_array, y_array)\n",
        "        return self\n",
        "\n",
        "    def _compute_class_weights(self, y: NDArray) -> Dict[int, float]:\n",
        "        \"\"\"\n",
        "        Вычисление весов классов для балансировки.\n",
        "        \"\"\"\n",
        "        class_counts = np.bincount(y)\n",
        "        total_samples = len(y)\n",
        "        weights = total_samples / (len(np.unique(y)) * class_counts)\n",
        "        return dict(zip(np.unique(y), weights))\n",
        "\n",
        "    def _build_tree(self, X: NDArray, y: NDArray, depth: int = 0) -> Union[Dict, int]:\n",
        "        \"\"\"\n",
        "        Рекурсивное построение дерева решений.\n",
        "        \"\"\"\n",
        "        # Проверка условий остановки\n",
        "        if len(set(y)) == 1:\n",
        "            return y[0]\n",
        "        if self.max_depth is not None and depth == self.max_depth:\n",
        "            return self._majority_class(y)\n",
        "        if len(y) < self.min_samples_split:\n",
        "            return self._majority_class(y)\n",
        "\n",
        "        # Поиск лучшего разделения\n",
        "        best_split = self._find_best_split(X, y)\n",
        "        if best_split is None:\n",
        "            return self._majority_class(y)\n",
        "\n",
        "        # Построение поддеревьев\n",
        "        left_X, left_y, right_X, right_y = self._perform_split(X, y, best_split)\n",
        "        return {\n",
        "            'split': best_split,\n",
        "            'left': self._build_tree(left_X, left_y, depth + 1),\n",
        "            'right': self._build_tree(right_X, right_y, depth + 1)\n",
        "        }\n",
        "\n",
        "    def _find_best_split(self, X: NDArray, y: NDArray) -> Optional[Tuple[int, float]]:\n",
        "        \"\"\"\n",
        "        Поиск оптимального разделения данных.\n",
        "        \"\"\"\n",
        "        best_gini = float('inf')\n",
        "        best_split = None\n",
        "\n",
        "        for feature_idx in range(X.shape[1]):\n",
        "            thresholds = np.unique(X[:, feature_idx])\n",
        "            for threshold in thresholds:\n",
        "                left_mask = X[:, feature_idx] <= threshold\n",
        "                right_mask = ~left_mask\n",
        "\n",
        "                left_y = y[left_mask]\n",
        "                right_y = y[right_mask]\n",
        "\n",
        "                if len(left_y) < self.min_samples_leaf or len(right_y) < self.min_samples_leaf:\n",
        "                    continue\n",
        "\n",
        "                gini = self._calculate_gini(left_y, right_y)\n",
        "                if gini < best_gini:\n",
        "                    best_gini = gini\n",
        "                    best_split = (feature_idx, threshold)\n",
        "\n",
        "        return best_split\n",
        "\n",
        "    def _calculate_gini(self, left_y: NDArray, right_y: NDArray) -> float:\n",
        "        \"\"\"\n",
        "        Вычисление индекса Джини для разделения.\n",
        "        \"\"\"\n",
        "        def gini_impurity(y: NDArray) -> float:\n",
        "            proportions = np.bincount(y) / len(y)\n",
        "            return 1 - np.sum(proportions ** 2)\n",
        "\n",
        "        n_left, n_right = len(left_y), len(right_y)\n",
        "        n_total = n_left + n_right\n",
        "\n",
        "        left_gini = gini_impurity(left_y)\n",
        "        right_gini = gini_impurity(right_y)\n",
        "\n",
        "        return (n_left / n_total) * left_gini + (n_right / n_total) * right_gini\n",
        "\n",
        "    def _perform_split(self, X: NDArray, y: NDArray,\n",
        "                      split: Tuple[int, float]) -> Tuple[NDArray, NDArray, NDArray, NDArray]:\n",
        "        \"\"\"\n",
        "        Разделение данных по выбранному признаку и порогу.\n",
        "        \"\"\"\n",
        "        feature_idx, threshold = split\n",
        "        left_mask = X[:, feature_idx] <= threshold\n",
        "        right_mask = ~left_mask\n",
        "\n",
        "        return X[left_mask], y[left_mask], X[right_mask], y[right_mask]\n",
        "\n",
        "    def _majority_class(self, y: NDArray) -> int:\n",
        "        \"\"\"\n",
        "        Определение доминирующего класса с учетом весов.\n",
        "        \"\"\"\n",
        "        if self.class_weights is None:\n",
        "            return np.bincount(y).argmax()\n",
        "\n",
        "        weighted_counts = np.zeros(len(self.class_weights))\n",
        "        for class_label, weight in self.class_weights.items():\n",
        "            weighted_counts[class_label] = np.sum(y == class_label) * weight\n",
        "        return weighted_counts.argmax()\n",
        "\n",
        "    def predict(self, X: Union[NDArray, pd.DataFrame]) -> NDArray:\n",
        "        \"\"\"\n",
        "        Предсказание классов для новых данных.\n",
        "        \"\"\"\n",
        "        X_array = X.to_numpy() if isinstance(X, pd.DataFrame) else X\n",
        "        return np.array([self._predict_single(x, self.tree) for x in X_array])\n",
        "\n",
        "    def _predict_single(self, x: NDArray, node: Union[Dict, int]) -> int:\n",
        "        \"\"\"\n",
        "        Предсказание класса для одного объекта.\n",
        "        \"\"\"\n",
        "        if not isinstance(node, dict):\n",
        "            return node\n",
        "\n",
        "        feature_idx, threshold = node['split']\n",
        "        if x[feature_idx] <= threshold:\n",
        "            return self._predict_single(x, node['left'])\n",
        "        return self._predict_single(x, node['right'])"
      ],
      "metadata": {
        "id": "blky5LWr2DBC"
      },
      "execution_count": 86,
      "outputs": []
    },
    {
      "cell_type": "code",
      "source": [
        "target = 'loan_status'\n",
        "# one-hot encoding\n",
        "df = pd.get_dummies(df, drop_first=True)\n",
        "X = df.drop(columns=[target])\n",
        "y = df[target]\n",
        "\n",
        "X_train, X_test, y_train, y_test = train_test_split(X, y, test_size=0.3, random_state=42)"
      ],
      "metadata": {
        "id": "H5WudezP2nub"
      },
      "execution_count": 87,
      "outputs": []
    },
    {
      "cell_type": "code",
      "source": [
        "tree = DecisionTree(\n",
        "    max_depth=5,\n",
        "    min_samples_split=10,\n",
        "    min_samples_leaf=5,\n",
        "    class_weight='balanced'\n",
        ")\n",
        "\n",
        "tree.fit(X_train, y_train)\n",
        "\n",
        "y_pred = tree.predict(X_test)"
      ],
      "metadata": {
        "id": "RKm25kaE2nub"
      },
      "execution_count": 88,
      "outputs": []
    },
    {
      "cell_type": "code",
      "source": [
        "acc = accuracy_score(y_test, y_pred)\n",
        "print(f\"Accuracy : {acc * 100}\")\n",
        "\n",
        "print(\"Classification Report:\")\n",
        "print(classification_report(y_test, y_pred))\n",
        "\n",
        "# Confusion matrix\n",
        "cm = confusion_matrix(y_test, y_pred)\n",
        "\n",
        "# Draw confusion matrix\n",
        "# Loan approval status: 1 = approved; 0 = rejected\n",
        "plt.figure(figsize=(7, 5))\n",
        "sns.heatmap(cm, annot=True, fmt='d', cmap='Blues', xticklabels=[\"Class 0\", \"Class 1\"], yticklabels=[\"Class 0\", \"Class 1\"])\n",
        "plt.title('Confusion Matrix')\n",
        "plt.xlabel('Predicted')\n",
        "plt.ylabel('Actual')\n",
        "plt.show()"
      ],
      "metadata": {
        "colab": {
          "base_uri": "https://localhost:8080/",
          "height": 687
        },
        "outputId": "6f9f2cfc-a06b-46c4-fc77-8a84669a88e3",
        "id": "Lx5B7hgF2nub"
      },
      "execution_count": 89,
      "outputs": [
        {
          "output_type": "stream",
          "name": "stdout",
          "text": [
            "Accuracy : 84.48148148148148\n",
            "Classification Report:\n",
            "              precision    recall  f1-score   support\n",
            "\n",
            "           0       0.97      0.83      0.89     10493\n",
            "           1       0.60      0.91      0.72      3007\n",
            "\n",
            "    accuracy                           0.84     13500\n",
            "   macro avg       0.78      0.87      0.81     13500\n",
            "weighted avg       0.89      0.84      0.85     13500\n",
            "\n"
          ]
        },
        {
          "output_type": "display_data",
          "data": {
            "text/plain": [
              "<Figure size 700x500 with 2 Axes>"
            ],
            "image/png": "[encoded data removed]"
          },
          "metadata": {}
        }
      ]
    },
    {
      "cell_type": "markdown",
      "source": [
        "####Вывод:\n",
        "К сожалению, улучшенный baseline в самостоятельной реализации показал худший результат. Baseline же был на уровне с baseline'ом реализации scikit-learn"
      ],
      "metadata": {
        "id": "bhH-_oWk3Twy"
      }
    },
    {
      "cell_type": "markdown",
      "source": [
        "####Регрессия"
      ],
      "metadata": {
        "id": "ZOYB8y0Hxpa0"
      }
    },
    {
      "cell_type": "markdown",
      "source": [
        "#####Baseline"
      ],
      "metadata": {
        "id": "xU5-BOWu4Pgp"
      }
    },
    {
      "cell_type": "code",
      "source": [
        "from typing import Dict, Tuple, Union, Optional\n",
        "import numpy as np\n",
        "import pandas as pd\n",
        "from numpy.typing import NDArray\n",
        "\n",
        "class DecisionTreeRegressorCustom:\n",
        "    \"\"\"\n",
        "    Пользовательская реализация дерева решений для задач регрессии.\n",
        "\n",
        "    Attributes:\n",
        "        max_depth (Optional[int]): Максимальная глубина дерева\n",
        "        min_samples_split (int): Минимальное количество образцов для разделения узла\n",
        "        min_samples_leaf (int): Минимальное количество образцов в листовом узле\n",
        "        tree (Optional[Dict]): Структура дерева решений\n",
        "    \"\"\"\n",
        "\n",
        "    def __init__(self,\n",
        "                 max_depth: Optional[int] = None,\n",
        "                 min_samples_split: int = 2,\n",
        "                 min_samples_leaf: int = 1) -> None:\n",
        "        \"\"\"\n",
        "        Инициализация регрессионного дерева решений.\n",
        "\n",
        "        Args:\n",
        "            max_depth: Максимальная глубина дерева\n",
        "            min_samples_split: Минимальное количество образцов для разделения\n",
        "            min_samples_leaf: Минимальное количество образцов в листе\n",
        "        \"\"\"\n",
        "        self.max_depth = max_depth\n",
        "        self.min_samples_split = min_samples_split\n",
        "        self.min_samples_leaf = min_samples_leaf\n",
        "        self.tree = None\n",
        "\n",
        "    def fit(self, X: Union[NDArray, pd.DataFrame], y: Union[NDArray, pd.Series]) -> None:\n",
        "        \"\"\"\n",
        "        Обучение дерева решений.\n",
        "\n",
        "        Args:\n",
        "            X: Матрица признаков\n",
        "            y: Вектор целевых значений\n",
        "        \"\"\"\n",
        "        # Преобразование входных данных в numpy arrays\n",
        "        X_array = X.to_numpy() if isinstance(X, pd.DataFrame) else X\n",
        "        y_array = y.to_numpy() if isinstance(y, pd.Series) else y\n",
        "\n",
        "        self.tree = self._build_tree(X_array, y_array)\n",
        "        return self\n",
        "\n",
        "    def predict(self, X: Union[NDArray, pd.DataFrame]) -> NDArray:\n",
        "        \"\"\"\n",
        "        Предсказание значений для новых данных.\n",
        "\n",
        "        Args:\n",
        "            X: Матрица признаков для предсказания\n",
        "\n",
        "        Returns:\n",
        "            NDArray: Вектор предсказанных значений\n",
        "        \"\"\"\n",
        "        X_array = X.to_numpy() if isinstance(X, pd.DataFrame) else X\n",
        "        return np.array([self._predict_single(x, self.tree) for x in X_array])\n",
        "\n",
        "    def _build_tree(self, X: NDArray, y: NDArray, depth: int = 0) -> Union[Dict, float]:\n",
        "        \"\"\"\n",
        "        Рекурсивное построение дерева решений.\n",
        "\n",
        "        Args:\n",
        "            X: Матрица признаков\n",
        "            y: Вектор целевых значений\n",
        "            depth: Текущая глубина в дереве\n",
        "\n",
        "        Returns:\n",
        "            Union[Dict, float]: Узел дерева или значение предсказания\n",
        "        \"\"\"\n",
        "        n_samples, n_features = X.shape\n",
        "\n",
        "        # Проверка условий остановки\n",
        "        if (self.max_depth is not None and depth >= self.max_depth) or \\\n",
        "           n_samples < self.min_samples_split:\n",
        "            return np.mean(y)\n",
        "\n",
        "        # Поиск лучшего разделения\n",
        "        best_split = self._find_best_split(X, y, n_features)\n",
        "        if best_split is None:\n",
        "            return np.mean(y)\n",
        "\n",
        "        # Построение поддеревьев\n",
        "        left_tree = self._build_tree(*best_split['left'], depth + 1)\n",
        "        right_tree = self._build_tree(*best_split['right'], depth + 1)\n",
        "\n",
        "        return {\n",
        "            'feature': best_split['feature'],\n",
        "            'threshold': best_split['threshold'],\n",
        "            'left': left_tree,\n",
        "            'right': right_tree\n",
        "        }\n",
        "\n",
        "    def _find_best_split(self, X: NDArray, y: NDArray, n_features: int) -> Optional[Dict]:\n",
        "        \"\"\"\n",
        "        Поиск оптимального разделения данных.\n",
        "\n",
        "        Args:\n",
        "            X: Матрица признаков\n",
        "            y: Вектор целевых значений\n",
        "            n_features: Количество признаков\n",
        "\n",
        "        Returns:\n",
        "            Optional[Dict]: Информация о лучшем разделении или None\n",
        "        \"\"\"\n",
        "        best_split = None\n",
        "        min_mse = float('inf')\n",
        "\n",
        "        for feature in range(n_features):\n",
        "            thresholds = np.unique(X[:, feature])\n",
        "            for threshold in thresholds:\n",
        "                # Разделение данных\n",
        "                left_mask = X[:, feature] <= threshold\n",
        "                right_mask = ~left_mask\n",
        "                left_y, right_y = y[left_mask], y[right_mask]\n",
        "\n",
        "                # Проверка условий для листьев\n",
        "                if len(left_y) >= self.min_samples_leaf and \\\n",
        "                   len(right_y) >= self.min_samples_leaf:\n",
        "\n",
        "                    mse = self._calculate_mse(left_y, right_y)\n",
        "                    if mse < min_mse:\n",
        "                        min_mse = mse\n",
        "                        best_split = {\n",
        "                            'feature': feature,\n",
        "                            'threshold': threshold,\n",
        "                            'left': (X[left_mask], left_y),\n",
        "                            'right': (X[right_mask], right_y)\n",
        "                        }\n",
        "\n",
        "        return best_split\n",
        "\n",
        "    def _calculate_mse(self, left_y: NDArray, right_y: NDArray) -> float:\n",
        "        \"\"\"\n",
        "        Вычисление среднеквадратичной ошибки для разделения.\n",
        "\n",
        "        Args:\n",
        "            left_y: Целевые значения левой ветви\n",
        "            right_y: Целевые значения правой ветви\n",
        "\n",
        "        Returns:\n",
        "            float: Взвешенная среднеквадратичная ошибка\n",
        "        \"\"\"\n",
        "        left_mean = np.mean(left_y)\n",
        "        right_mean = np.mean(right_y)\n",
        "\n",
        "        left_mse = np.mean((left_y - left_mean) ** 2)\n",
        "        right_mse = np.mean((right_y - right_mean) ** 2)\n",
        "\n",
        "        n_left, n_right = len(left_y), len(right_y)\n",
        "        weighted_mse = (n_left * left_mse + n_right * right_mse) / (n_left + n_right)\n",
        "\n",
        "        return weighted_mse\n",
        "\n",
        "    def _predict_single(self, x: NDArray, node: Union[Dict, float]) -> float:\n",
        "        \"\"\"\n",
        "        Предсказание значения для одного объекта.\n",
        "\n",
        "        Args:\n",
        "            x: Вектор признаков\n",
        "            node: Узел дерева или значение предсказания\n",
        "\n",
        "        Returns:\n",
        "            float: Предсказанное значение\n",
        "        \"\"\"\n",
        "        if not isinstance(node, dict):\n",
        "            return node\n",
        "\n",
        "        if x[node['feature']] <= node['threshold']:\n",
        "            return self._predict_single(x, node['left'])\n",
        "        return self._predict_single(x, node['right'])"
      ],
      "metadata": {
        "id": "D-cY920gxuzj"
      },
      "execution_count": 95,
      "outputs": []
    },
    {
      "cell_type": "code",
      "execution_count": 96,
      "metadata": {
        "id": "Y68wrr4c4rpc"
      },
      "outputs": [],
      "source": [
        "# one-hot encoding\n",
        "df = pd.get_dummies(df, drop_first=True)\n",
        "target = 'loan_int_rate'\n",
        "X = df.drop(columns=[target])\n",
        "y = df[target]\n",
        "\n",
        "X_train, X_test, y_train, y_test = train_test_split(X, y, test_size=0.3, random_state=42)"
      ]
    },
    {
      "cell_type": "code",
      "source": [
        "dt_regressor = DecisionTreeRegressorCustom(max_depth=5, min_samples_split=10, min_samples_leaf=5)\n",
        "dt_regressor.fit(X_train, y_train)\n",
        "\n",
        "y_pred = dt_regressor.predict(X_test)"
      ],
      "metadata": {
        "id": "iAY7NTNQ4RRB"
      },
      "execution_count": 97,
      "outputs": []
    },
    {
      "cell_type": "code",
      "source": [
        "features = X_test\n",
        "y_pred = dt_regressor.predict(features)\n",
        "\n",
        "mse = mean_squared_error(y_test, y_pred)\n",
        "mae = mean_absolute_error(y_test, y_pred)\n",
        "mape = mean_absolute_percentage_error(y_test, y_pred)\n",
        "r2 = r2_score(y_test, y_pred)\n",
        "\n",
        "print(f'Mean Squared Error: {mse}')\n",
        "print(f'Mean Absolute Error: {mae}')\n",
        "print(f'Mean Absolute Percentage Error (%): {mape}')\n",
        "print(f'R² Score: {r2}')"
      ],
      "metadata": {
        "colab": {
          "base_uri": "https://localhost:8080/"
        },
        "id": "q58AQc8O5LbK",
        "outputId": "ed6f7b17-6ae7-4553-cef8-f0ed818dc8ad"
      },
      "execution_count": 98,
      "outputs": [
        {
          "output_type": "stream",
          "name": "stdout",
          "text": [
            "Mean Squared Error: 7.3477876858947315\n",
            "Mean Absolute Error: 2.201430655461688\n",
            "Mean Absolute Percentage Error (%): 0.22494753063985343\n",
            "R² Score: 0.16404664524488566\n"
          ]
        }
      ]
    },
    {
      "cell_type": "markdown",
      "source": [
        "#####Улучшенный baseline:"
      ],
      "metadata": {
        "id": "hVBmg3Zr4KKh"
      }
    },
    {
      "cell_type": "code",
      "execution_count": 99,
      "metadata": {
        "id": "4PWxbY-d4x9y"
      },
      "outputs": [],
      "source": [
        "# one-hot encoding\n",
        "df = pd.get_dummies(df, drop_first=True)\n",
        "target = 'loan_int_rate'\n",
        "X = df.drop(columns=[target])\n",
        "y = df[target]\n",
        "\n",
        "X_train, X_test, y_train, y_test = train_test_split(X, y, test_size=0.3, random_state=42)"
      ]
    },
    {
      "cell_type": "code",
      "source": [
        "# нормализация данных\n",
        "scaler = StandardScaler()\n",
        "scaled_data = scaler.fit_transform(X)\n",
        "X_scaled = pd.DataFrame(scaled_data, columns = X.columns.values)"
      ],
      "metadata": {
        "id": "sdI0ZuUP4x9z"
      },
      "execution_count": 100,
      "outputs": []
    },
    {
      "cell_type": "code",
      "source": [
        "X_train, X_test, y_train, y_test = train_test_split(X_scaled, y, test_size=0.3, random_state=42)"
      ],
      "metadata": {
        "id": "2_C06-i54x9z"
      },
      "execution_count": 101,
      "outputs": []
    },
    {
      "cell_type": "code",
      "source": [
        "dt_regressor = DecisionTreeRegressorCustom(max_depth=7, min_samples_split=2, min_samples_leaf=16)\n",
        "dt_regressor.fit(X_train, y_train)\n",
        "\n",
        "y_pred = dt_regressor.predict(X_test)"
      ],
      "metadata": {
        "id": "XDCeuc2e5CYJ"
      },
      "execution_count": 102,
      "outputs": []
    },
    {
      "cell_type": "code",
      "source": [
        "features = X_test\n",
        "y_pred = dt_regressor.predict(features)\n",
        "\n",
        "mse = mean_squared_error(y_test, y_pred)\n",
        "mae = mean_absolute_error(y_test, y_pred)\n",
        "mape = mean_absolute_percentage_error(y_test, y_pred)\n",
        "r2 = r2_score(y_test, y_pred)\n",
        "\n",
        "print(f'Mean Squared Error: {mse}')\n",
        "print(f'Mean Absolute Error: {mae}')\n",
        "print(f'Mean Absolute Percentage Error (%): {mape}')\n",
        "print(f'R² Score: {r2}')"
      ],
      "metadata": {
        "colab": {
          "base_uri": "https://localhost:8080/"
        },
        "id": "7QxUpYbS5QYy",
        "outputId": "f3a6468d-397d-473e-edc0-b2e1731f17f3"
      },
      "execution_count": 103,
      "outputs": [
        {
          "output_type": "stream",
          "name": "stdout",
          "text": [
            "Mean Squared Error: 7.365700968189253\n",
            "Mean Absolute Error: 2.2005622687544673\n",
            "Mean Absolute Percentage Error (%): 0.22465580868307078\n",
            "R² Score: 0.1620086619676162\n"
          ]
        }
      ]
    },
    {
      "cell_type": "markdown",
      "source": [
        "#####Вывод: Как baseline, так и улучшенный baseline в самостоятельной реализации в задаче регрессии показали результат, сравнимый с baseline библиотеки scikit-learn"
      ],
      "metadata": {
        "id": "gaen_FaX-fgR"
      }
    }
  ]
}